{
 "cells": [
  {
   "cell_type": "code",
   "execution_count": 1,
   "metadata": {},
   "outputs": [],
   "source": [
    "import pandas as pd"
   ]
  },
  {
   "cell_type": "code",
   "execution_count": 2,
   "metadata": {},
   "outputs": [],
   "source": [
    "from pymongo import MongoClient"
   ]
  },
  {
   "cell_type": "code",
   "execution_count": 3,
   "metadata": {},
   "outputs": [],
   "source": [
    "client = MongoClient()"
   ]
  },
  {
   "cell_type": "code",
   "execution_count": 4,
   "metadata": {},
   "outputs": [
    {
     "data": {
      "text/plain": [
       "['admin', 'config', 'funky_test', 'local', 'twitter_database', 'yelp_database']"
      ]
     },
     "execution_count": 4,
     "metadata": {},
     "output_type": "execute_result"
    }
   ],
   "source": [
    "client.list_database_names()"
   ]
  },
  {
   "cell_type": "code",
   "execution_count": 5,
   "metadata": {},
   "outputs": [],
   "source": [
    "#put yelp_database under db name\n",
    "db = client.yelp_database"
   ]
  },
  {
   "cell_type": "code",
   "execution_count": 110,
   "metadata": {},
   "outputs": [],
   "source": [
    "# Create a collection\n",
    "\n",
    "reviews = db.reviews"
   ]
  },
  {
   "cell_type": "code",
   "execution_count": 120,
   "metadata": {},
   "outputs": [
    {
     "data": {
      "text/plain": [
       "Collection(Database(MongoClient(host=['localhost:27017'], document_class=dict, tz_aware=False, connect=True), 'yelp_database'), 'review')"
      ]
     },
     "execution_count": 120,
     "metadata": {},
     "output_type": "execute_result"
    }
   ],
   "source": [
    "db.create_collection(\"review\")"
   ]
  },
  {
   "cell_type": "code",
   "execution_count": 6,
   "metadata": {},
   "outputs": [
    {
     "data": {
      "text/plain": [
       "['business_id', 'review']"
      ]
     },
     "execution_count": 6,
     "metadata": {},
     "output_type": "execute_result"
    }
   ],
   "source": [
    "db.list_collection_names()"
   ]
  },
  {
   "cell_type": "code",
   "execution_count": 10,
   "metadata": {},
   "outputs": [],
   "source": [
    "#put the collection under name bussiness_id\n",
    "business_id = db.get_collection('business_id')"
   ]
  },
  {
   "cell_type": "code",
   "execution_count": 11,
   "metadata": {},
   "outputs": [
    {
     "name": "stderr",
     "output_type": "stream",
     "text": [
      "/anaconda3/lib/python3.6/site-packages/ipykernel_launcher.py:1: DeprecationWarning: count is deprecated. Use estimated_document_count or count_documents instead. Please note that $where must be replaced by $expr, $near must be replaced by $geoWithin with $center, and $nearSphere must be replaced by $geoWithin with $centerSphere\n",
      "  \"\"\"Entry point for launching an IPython kernel.\n"
     ]
    },
    {
     "data": {
      "text/plain": [
       "188593"
      ]
     },
     "execution_count": 11,
     "metadata": {},
     "output_type": "execute_result"
    }
   ],
   "source": [
    "business_id.count()"
   ]
  },
  {
   "cell_type": "code",
   "execution_count": 7,
   "metadata": {},
   "outputs": [],
   "source": [
    "review = db.get_collection('review')"
   ]
  },
  {
   "cell_type": "code",
   "execution_count": 154,
   "metadata": {},
   "outputs": [],
   "source": [
    "#find resturants that have 'thai' in the categories\n",
    "import re\n",
    "regrexp = re.compile(r'Restaurants', re.IGNORECASE)\n",
    "Restaurants = list(business_id.find({'categories': regrexp}))"
   ]
  },
  {
   "cell_type": "code",
   "execution_count": 178,
   "metadata": {},
   "outputs": [],
   "source": [
    "CA = list(business_id.find({'state': 'CA'}))"
   ]
  },
  {
   "cell_type": "code",
   "execution_count": 179,
   "metadata": {},
   "outputs": [
    {
     "data": {
      "text/plain": [
       "8"
      ]
     },
     "execution_count": 179,
     "metadata": {},
     "output_type": "execute_result"
    }
   ],
   "source": [
    "len(CA)"
   ]
  },
  {
   "cell_type": "code",
   "execution_count": 155,
   "metadata": {},
   "outputs": [
    {
     "data": {
      "text/plain": [
       "57173"
      ]
     },
     "execution_count": 155,
     "metadata": {},
     "output_type": "execute_result"
    }
   ],
   "source": [
    "len(Restaurants)"
   ]
  },
  {
   "cell_type": "code",
   "execution_count": 8,
   "metadata": {
    "scrolled": true
   },
   "outputs": [
    {
     "name": "stderr",
     "output_type": "stream",
     "text": [
      "/anaconda3/lib/python3.6/site-packages/ipykernel_launcher.py:1: DeprecationWarning: count is deprecated. Use estimated_document_count or count_documents instead. Please note that $where must be replaced by $expr, $near must be replaced by $geoWithin with $center, and $nearSphere must be replaced by $geoWithin with $centerSphere\n",
      "  \"\"\"Entry point for launching an IPython kernel.\n"
     ]
    },
    {
     "data": {
      "text/plain": [
       "5996996"
      ]
     },
     "execution_count": 8,
     "metadata": {},
     "output_type": "execute_result"
    }
   ],
   "source": [
    "review.count()"
   ]
  },
  {
   "cell_type": "code",
   "execution_count": 12,
   "metadata": {
    "scrolled": true
   },
   "outputs": [],
   "source": [
    "#find resturants that have 'thai' in the categories\n",
    "import re\n",
    "regrexp = re.compile(r'thai', re.IGNORECASE)\n",
    "Thai = list(business_id.find({'categories': regrexp}))"
   ]
  },
  {
   "cell_type": "code",
   "execution_count": 87,
   "metadata": {},
   "outputs": [
    {
     "name": "stdout",
     "output_type": "stream",
     "text": [
      "{'_id': ObjectId('5be210b59c79adcaa520aec9'), 'business_id': 'Wttultg9Udt9MuxaGqLCDA', 'name': \"Charlie's Philly steaks\", 'neighborhood': '', 'address': '11025 Carolina Pl Pkwy', 'city': 'Pineville', 'state': 'NC', 'postal_code': '28134', 'latitude': 35.0822, 'longitude': -80.8772242, 'stars': 3.0, 'review_count': 4, 'is_open': 1, 'attributes': {'Alcohol': 'none', 'Ambience': \"{'romantic': False, 'intimate': False, 'classy': False, 'hipster': False, 'divey': False, 'touristy': False, 'trendy': False, 'upscale': False, 'casual': False}\", 'BikeParking': 'True', 'BusinessAcceptsCreditCards': 'True', 'Caters': 'False', 'GoodForKids': 'False', 'HasTV': 'False', 'NoiseLevel': 'loud', 'OutdoorSeating': 'False', 'RestaurantsAttire': 'casual', 'RestaurantsDelivery': 'False', 'RestaurantsGoodForGroups': 'False', 'RestaurantsPriceRange2': '2', 'RestaurantsReservations': 'False', 'RestaurantsTableService': 'False', 'RestaurantsTakeOut': 'True'}, 'categories': 'Cheesesteaks, Restaurants', 'hours': None}\n"
     ]
    }
   ],
   "source": [
    "for i in business_id.find({'business_id': 'Wttultg9Udt9MuxaGqLCDA'}):\n",
    "    print (i)"
   ]
  },
  {
   "cell_type": "code",
   "execution_count": 99,
   "metadata": {},
   "outputs": [],
   "source": [
    "from ast import literal_eval\n",
    "\n",
    "dict = literal_eval(\"{'romantic': False, 'intimate': False, 'classy': False, 'hipster': False, 'divey': False, 'touristy': False, 'trendy': False, 'upscale': False, 'casual': False}\")"
   ]
  },
  {
   "cell_type": "code",
   "execution_count": 100,
   "metadata": {},
   "outputs": [
    {
     "data": {
      "text/plain": [
       "{'romantic': False,\n",
       " 'intimate': False,\n",
       " 'classy': False,\n",
       " 'hipster': False,\n",
       " 'divey': False,\n",
       " 'touristy': False,\n",
       " 'trendy': False,\n",
       " 'upscale': False,\n",
       " 'casual': False}"
      ]
     },
     "execution_count": 100,
     "metadata": {},
     "output_type": "execute_result"
    }
   ],
   "source": [
    "dict"
   ]
  },
  {
   "cell_type": "code",
   "execution_count": 98,
   "metadata": {},
   "outputs": [
    {
     "data": {
      "text/plain": [
       "\"{'romantic': False, 'intimate': False, 'classy': False, 'hipster': False, 'divey': False, 'touristy': False, 'trendy': False, 'upscale': False, 'casual': False}\""
      ]
     },
     "execution_count": 98,
     "metadata": {},
     "output_type": "execute_result"
    }
   ],
   "source": [
    "\"{'romantic': False, 'intimate': False, 'classy': False, 'hipster': False, 'divey': False, 'touristy': False, 'trendy': False, 'upscale': False, 'casual': False}\".strip('\\\"')\n",
    "\n"
   ]
  },
  {
   "cell_type": "code",
   "execution_count": 13,
   "metadata": {},
   "outputs": [
    {
     "data": {
      "text/plain": [
       "1413"
      ]
     },
     "execution_count": 13,
     "metadata": {},
     "output_type": "execute_result"
    }
   ],
   "source": [
    "len(Thai)"
   ]
  },
  {
   "cell_type": "code",
   "execution_count": 58,
   "metadata": {},
   "outputs": [
    {
     "name": "stdout",
     "output_type": "stream",
     "text": [
      "True\n",
      "\n",
      "\n"
     ]
    }
   ],
   "source": [
    "for i in Thai[:1]:\n",
    "    print ('postal_code' in i)\n",
    "    print ('\\n')"
   ]
  },
  {
   "cell_type": "code",
   "execution_count": 152,
   "metadata": {},
   "outputs": [],
   "source": [
    "CA = list(business_id.find({'state': 'CA'}))"
   ]
  },
  {
   "cell_type": "code",
   "execution_count": 153,
   "metadata": {},
   "outputs": [
    {
     "data": {
      "text/plain": [
       "8"
      ]
     },
     "execution_count": 153,
     "metadata": {},
     "output_type": "execute_result"
    }
   ],
   "source": [
    "len(CA)"
   ]
  },
  {
   "cell_type": "code",
   "execution_count": null,
   "metadata": {},
   "outputs": [],
   "source": [
    "regrexp = re.compile(r'chinese', re.IGNORECASE)\n",
    "Chinese = list(business_id.find({'categories': regrexp}))"
   ]
  },
  {
   "cell_type": "code",
   "execution_count": 15,
   "metadata": {},
   "outputs": [],
   "source": [
    "regrexp = re.compile(r'chinese', re.IGNORECASE)\n",
    "Chinese = list(business_id.find({'categories': regrexp}))"
   ]
  },
  {
   "cell_type": "code",
   "execution_count": 16,
   "metadata": {},
   "outputs": [
    {
     "data": {
      "text/plain": [
       "4468"
      ]
     },
     "execution_count": 16,
     "metadata": {},
     "output_type": "execute_result"
    }
   ],
   "source": [
    "len(Chinese)"
   ]
  },
  {
   "cell_type": "code",
   "execution_count": 17,
   "metadata": {},
   "outputs": [],
   "source": [
    "regrexp = re.compile(r'pizza', re.IGNORECASE)\n",
    "pizza = list(business_id.find({'categories': regrexp}))"
   ]
  },
  {
   "cell_type": "code",
   "execution_count": 18,
   "metadata": {},
   "outputs": [
    {
     "data": {
      "text/plain": [
       "6603"
      ]
     },
     "execution_count": 18,
     "metadata": {},
     "output_type": "execute_result"
    }
   ],
   "source": [
    "len(pizza)"
   ]
  },
  {
   "cell_type": "code",
   "execution_count": 19,
   "metadata": {},
   "outputs": [],
   "source": [
    "regrexp = re.compile(r'mexican', re.IGNORECASE)\n",
    "mexican = list(business_id.find({'categories': regrexp}))"
   ]
  },
  {
   "cell_type": "code",
   "execution_count": 20,
   "metadata": {},
   "outputs": [
    {
     "data": {
      "text/plain": [
       "4428"
      ]
     },
     "execution_count": 20,
     "metadata": {},
     "output_type": "execute_result"
    }
   ],
   "source": [
    "len(mexican)"
   ]
  },
  {
   "cell_type": "code",
   "execution_count": 21,
   "metadata": {},
   "outputs": [],
   "source": [
    "regrexp = re.compile(r'Brunch', re.IGNORECASE)\n",
    "Brunch = list(business_id.find({'categories': regrexp}))"
   ]
  },
  {
   "cell_type": "code",
   "execution_count": 22,
   "metadata": {},
   "outputs": [
    {
     "data": {
      "text/plain": [
       "5023"
      ]
     },
     "execution_count": 22,
     "metadata": {},
     "output_type": "execute_result"
    }
   ],
   "source": [
    "len(Brunch)"
   ]
  },
  {
   "cell_type": "code",
   "execution_count": 23,
   "metadata": {},
   "outputs": [],
   "source": [
    "regrexp = re.compile(r'cheese', re.IGNORECASE)\n",
    "cheese = list(business_id.find({'categories': regrexp}))\n",
    "\n"
   ]
  },
  {
   "cell_type": "code",
   "execution_count": 24,
   "metadata": {
    "scrolled": true
   },
   "outputs": [
    {
     "data": {
      "text/plain": [
       "381"
      ]
     },
     "execution_count": 24,
     "metadata": {},
     "output_type": "execute_result"
    }
   ],
   "source": [
    "len(cheese)"
   ]
  },
  {
   "cell_type": "code",
   "execution_count": null,
   "metadata": {},
   "outputs": [],
   "source": [
    "{'romantic': False, 'intimate': False, 'classy': False, 'hipster': False, 'divey': False, 'touristy': False, 'trendy': False, 'upscale': False, 'casual': False}\""
   ]
  },
  {
   "cell_type": "code",
   "execution_count": 89,
   "metadata": {},
   "outputs": [],
   "source": [
    "#initiate the dictionary to store bussiness info\n",
    "keys = ['business_id', 'postal_code', 'neighborhood', 'categories', 'name', 'city', 'state', 'Alcohol','GoodForKids', 'OutdoorSeating', 'RestaurantsAttire', 'RestaurantsGoodForGroups', 'RestaurantsPriceRange2', 'RestaurantsTableService', \n",
    "        'RestaurantsTakeOut', 'romantic', 'intimate','classy','hipster', 'divey', 'touristy','trendy','upscale','casual']\n",
    "# cheese_bussiness_catergory = {key: [] for key in keys}\n",
    "# thai_bussiness_catergory = {key: [] for key in keys}\n",
    "# chinese_bussiness_catergory = {key: [] for key in keys}\n",
    "# pizza_bussiness_catergory = {key: [] for key in keys}\n",
    "# mexican_bussiness_catergory = {key: [] for key in keys}\n",
    "# brunch_bussiness_catergory = {key: [] for key in keys}\n"
   ]
  },
  {
   "cell_type": "code",
   "execution_count": 162,
   "metadata": {},
   "outputs": [],
   "source": [
    "bussiness_info_1 = {key: [] for key in keys}"
   ]
  },
  {
   "cell_type": "code",
   "execution_count": 163,
   "metadata": {},
   "outputs": [
    {
     "data": {
      "text/plain": [
       "{'business_id': [],\n",
       " 'postal_code': [],\n",
       " 'neighborhood': [],\n",
       " 'categories': [],\n",
       " 'name': [],\n",
       " 'city': [],\n",
       " 'state': [],\n",
       " 'Alcohol': [],\n",
       " 'GoodForKids': [],\n",
       " 'OutdoorSeating': [],\n",
       " 'RestaurantsAttire': [],\n",
       " 'RestaurantsGoodForGroups': [],\n",
       " 'RestaurantsPriceRange2': [],\n",
       " 'RestaurantsTableService': [],\n",
       " 'RestaurantsTakeOut': [],\n",
       " 'romantic': [],\n",
       " 'intimate': [],\n",
       " 'classy': [],\n",
       " 'hipster': [],\n",
       " 'divey': [],\n",
       " 'touristy': [],\n",
       " 'trendy': [],\n",
       " 'upscale': [],\n",
       " 'casual': []}"
      ]
     },
     "execution_count": 163,
     "metadata": {},
     "output_type": "execute_result"
    }
   ],
   "source": [
    "bussiness_info_1\n"
   ]
  },
  {
   "cell_type": "code",
   "execution_count": 164,
   "metadata": {},
   "outputs": [],
   "source": [
    "#fill in the dictionary\n",
    "\n",
    "for record in Restaurants:\n",
    "    if 'business_id' in record:\n",
    "        bussiness_info_1['business_id'].append(record['business_id'])\n",
    "    else:\n",
    "        bussiness_info_1['business_id'].append(None)\n",
    "    if 'postal_code' in record:\n",
    "        bussiness_info_1['postal_code'].append(record['postal_code'])\n",
    "    else:\n",
    "        bussiness_info_1['postal_code'].append(None)\n",
    "    if 'neighborhood' in record:\n",
    "        bussiness_info_1['neighborhood'].append(record['neighborhood'])\n",
    "    else:\n",
    "        bussiness_info_1['neighborhood'].append(None)\n",
    "    if 'categories' in record:\n",
    "        bussiness_info_1['categories'].append(record['categories'])\n",
    "    else:\n",
    "        bussiness_info_1['categories'].append(None)\n",
    "    if 'name' in record:\n",
    "        bussiness_info_1['name'].append(record['name'])\n",
    "    else:\n",
    "        bussiness_info_1['name'].append(None)\n",
    "    if 'city' in record:\n",
    "        bussiness_info_1['city'].append(record['city'])\n",
    "    else:\n",
    "        bussiness_info_1['city'].append(None)\n",
    "    if 'state' in record:\n",
    "        bussiness_info_1['state'].append(record['state'])\n",
    "    else:\n",
    "        bussiness_info_1['state'].append(None)\n",
    "    if 'attributes' in record and record['attributes']!= None: \n",
    "#             print (record['attributes'])\n",
    "#             print ('\\n')\n",
    "        if 'Alcohol'in record['attributes']: #and record['attributes']['Alcohol']!=None:\n",
    "\n",
    "            bussiness_info_1['Alcohol'].append(record['attributes']['Alcohol'])\n",
    "        else:\n",
    "            bussiness_info_1['Alcohol'].append(None)\n",
    "\n",
    "        if 'GoodForKids'in record['attributes']: #and record['attributes']['GoodForKids']!= None:\n",
    "            bussiness_info_1['GoodForKids'].append(record['attributes']['GoodForKids'])\n",
    "        else:\n",
    "            bussiness_info_1['GoodForKids'].append(None)\n",
    "        if 'OutdoorSeating'in record['attributes']: #and record['attributes']['OutdoorSeating']!=None:\n",
    "            bussiness_info_1['OutdoorSeating'].append(record['attributes']['OutdoorSeating'])\n",
    "        else:\n",
    "            bussiness_info_1['OutdoorSeating'].append(None)\n",
    "        if 'RestaurantsAttire'in record['attributes']: #and record['attributes']['RestaurantsAttire']!=None:\n",
    "            bussiness_info_1['RestaurantsAttire'].append(record['attributes']['RestaurantsAttire'])\n",
    "        else:\n",
    "            bussiness_info_1['RestaurantsAttire'].append(None)\n",
    "        if 'RestaurantsGoodForGroups'in record['attributes']:\n",
    "            bussiness_info_1['RestaurantsGoodForGroups'].append(record['attributes']['RestaurantsGoodForGroups'])\n",
    "        else:\n",
    "            bussiness_info_1['RestaurantsGoodForGroups'].append(None)\n",
    "\n",
    "        if 'RestaurantsPriceRange2' in record['attributes']:\n",
    "            bussiness_info_1['RestaurantsPriceRange2'].append(record['attributes']['RestaurantsPriceRange2'])\n",
    "        else:\n",
    "            bussiness_info_1['RestaurantsPriceRange2'].append(None)\n",
    "\n",
    "        if 'RestaurantsTableService' in record['attributes']:\n",
    "            bussiness_info_1['RestaurantsTableService'].append(record['attributes']['RestaurantsTableService'])\n",
    "        else:\n",
    "            bussiness_info_1['RestaurantsTableService'].append(None)\n",
    "\n",
    "        if 'RestaurantsTakeOut'in record['attributes']:\n",
    "            bussiness_info_1['RestaurantsTakeOut'].append(record['attributes']['RestaurantsTakeOut'])\n",
    "        else:\n",
    "            bussiness_info_1['RestaurantsTakeOut'].append(None)\n",
    "        if 'Ambience' in record['attributes'] and record['attributes']['Ambience']!=None:\n",
    "            ambience = literal_eval(record['attributes']['Ambience'])\n",
    "            if 'romantic' in ambience:\n",
    "                bussiness_info_1['romantic'].append(ambience['romantic'])\n",
    "            else: \n",
    "                bussiness_info_1['romantic'].append(None)\n",
    "            if 'intimate' in ambience:\n",
    "                bussiness_info_1['intimate'].append(ambience['intimate'])\n",
    "            else: \n",
    "                bussiness_info_1['intimate'].append(None)\n",
    "            if 'classy' in ambience:\n",
    "                bussiness_info_1['classy'].append(ambience['classy'])\n",
    "            else:\n",
    "                bussiness_info_1['classy'].append(None)\n",
    "            if 'hipster' in ambience:\n",
    "                bussiness_info_1['hipster'].append(ambience['hipster'])\n",
    "            else:\n",
    "                bussiness_info_1['hipster'].append(None)\n",
    "            if 'divey' in ambience:\n",
    "                bussiness_info_1['divey'].append(ambience['divey'])\n",
    "            else:\n",
    "                bussiness_info_1['divey'].append(None)\n",
    "            if 'touristy' in ambience:\n",
    "                bussiness_info_1['touristy'].append(ambience['touristy'])\n",
    "            else:\n",
    "                bussiness_info_1['touristy'].append(None)\n",
    "            if 'trendy' in ambience:\n",
    "                bussiness_info_1['trendy'].append(ambience['trendy'])\n",
    "            else:\n",
    "                bussiness_info_1['trendy'].append(None)\n",
    "            if 'upscale' in ambience:\n",
    "                bussiness_info_1['upscale'].append(ambience['upscale'])\n",
    "            else:\n",
    "                bussiness_info_1['upscale'].append(None)\n",
    "            if 'casual' in ambience:\n",
    "                bussiness_info_1['casual'].append(ambience['casual'])\n",
    "            else:\n",
    "                bussiness_info_1['casual'].append(None)\n",
    "\n",
    "        else:\n",
    "            bussiness_info_1['romantic'].append(None)\n",
    "            bussiness_info_1['intimate'].append(None)\n",
    "            bussiness_info_1['classy'].append(None)\n",
    "            bussiness_info_1['hipster'].append(None)\n",
    "            bussiness_info_1['divey'].append(None)\n",
    "            bussiness_info_1['touristy'].append(None)\n",
    "            bussiness_info_1['trendy'].append(None)\n",
    "            bussiness_info_1['upscale'].append(None)\n",
    "            bussiness_info_1['casual'].append(None)\n",
    "\n",
    "\n",
    "    else:\n",
    "        bussiness_info_1['Alcohol'].append(None)\n",
    "        bussiness_info_1['GoodForKids'].append(None)\n",
    "        bussiness_info_1['OutdoorSeating'].append(None)\n",
    "        bussiness_info_1['RestaurantsAttire'].append(None)\n",
    "        bussiness_info_1['RestaurantsGoodForGroups'].append(None)\n",
    "        bussiness_info_1['RestaurantsPriceRange2'].append(None)\n",
    "        bussiness_info_1['RestaurantsTableService'].append(None)\n",
    "        bussiness_info_1['RestaurantsTakeOut'].append(None)\n",
    "        bussiness_info_1['romantic'].append(None)\n",
    "        bussiness_info_1['intimate'].append(None)\n",
    "        bussiness_info_1['classy'].append(None)\n",
    "        bussiness_info_1['hipster'].append(None)\n",
    "        bussiness_info_1['divey'].append(None)\n",
    "        bussiness_info_1['touristy'].append(None)\n",
    "        bussiness_info_1['trendy'].append(None)\n",
    "        bussiness_info_1['upscale'].append(None)\n",
    "        bussiness_info_1['casual'].append(None)\n",
    "\n",
    "\n",
    "    "
   ]
  },
  {
   "cell_type": "code",
   "execution_count": null,
   "metadata": {},
   "outputs": [],
   "source": [
    "bussiness_info_1"
   ]
  },
  {
   "cell_type": "code",
   "execution_count": null,
   "metadata": {},
   "outputs": [],
   "source": [
    "'romantic', 'intimate','classy','hipster', 'divey', 'touristy','trendy','upscale','casual']"
   ]
  },
  {
   "cell_type": "code",
   "execution_count": 65,
   "metadata": {},
   "outputs": [
    {
     "data": {
      "text/plain": [
       "4"
      ]
     },
     "execution_count": 65,
     "metadata": {},
     "output_type": "execute_result"
    }
   ],
   "source": [
    "len([1,2,3, None])"
   ]
  },
  {
   "cell_type": "code",
   "execution_count": 80,
   "metadata": {},
   "outputs": [],
   "source": [
    "test_dict = {'a':[1,2,3], 'b':[1,2,None]}"
   ]
  },
  {
   "cell_type": "code",
   "execution_count": 165,
   "metadata": {},
   "outputs": [
    {
     "name": "stdout",
     "output_type": "stream",
     "text": [
      "business_id 57173\n",
      "postal_code 57173\n",
      "neighborhood 57173\n",
      "categories 57173\n",
      "name 57173\n",
      "city 57173\n",
      "state 57173\n",
      "Alcohol 57173\n",
      "GoodForKids 57173\n",
      "OutdoorSeating 57173\n",
      "RestaurantsAttire 57173\n",
      "RestaurantsGoodForGroups 57173\n",
      "RestaurantsPriceRange2 57173\n",
      "RestaurantsTableService 57173\n",
      "RestaurantsTakeOut 57173\n",
      "romantic 57173\n",
      "intimate 57173\n",
      "classy 57173\n",
      "hipster 57173\n",
      "divey 57173\n",
      "touristy 57173\n",
      "trendy 57173\n",
      "upscale 57173\n",
      "casual 57173\n"
     ]
    }
   ],
   "source": [
    "#check the lenghth of key and value to ensure each key has value\n",
    "for key, value in bussiness_info_1.items():\n",
    "    #print value\n",
    "    print(key, len([item for item in value]))"
   ]
  },
  {
   "cell_type": "code",
   "execution_count": 166,
   "metadata": {},
   "outputs": [],
   "source": [
    "bussiness_info_1_df = pd.DataFrame.from_dict(bussiness_info_1)"
   ]
  },
  {
   "cell_type": "code",
   "execution_count": 168,
   "metadata": {},
   "outputs": [
    {
     "data": {
      "text/plain": [
       "(57173, 24)"
      ]
     },
     "execution_count": 168,
     "metadata": {},
     "output_type": "execute_result"
    }
   ],
   "source": [
    "bussiness_info_1_df.shape"
   ]
  },
  {
   "cell_type": "code",
   "execution_count": 88,
   "metadata": {},
   "outputs": [
    {
     "name": "stdout",
     "output_type": "stream",
     "text": [
      "{'_id': ObjectId('5be210b59c79adcaa520aec9'), 'business_id': 'Wttultg9Udt9MuxaGqLCDA', 'name': \"Charlie's Philly steaks\", 'neighborhood': '', 'address': '11025 Carolina Pl Pkwy', 'city': 'Pineville', 'state': 'NC', 'postal_code': '28134', 'latitude': 35.0822, 'longitude': -80.8772242, 'stars': 3.0, 'review_count': 4, 'is_open': 1, 'attributes': {'Alcohol': 'none', 'Ambience': \"{'romantic': False, 'intimate': False, 'classy': False, 'hipster': False, 'divey': False, 'touristy': False, 'trendy': False, 'upscale': False, 'casual': False}\", 'BikeParking': 'True', 'BusinessAcceptsCreditCards': 'True', 'Caters': 'False', 'GoodForKids': 'False', 'HasTV': 'False', 'NoiseLevel': 'loud', 'OutdoorSeating': 'False', 'RestaurantsAttire': 'casual', 'RestaurantsDelivery': 'False', 'RestaurantsGoodForGroups': 'False', 'RestaurantsPriceRange2': '2', 'RestaurantsReservations': 'False', 'RestaurantsTableService': 'False', 'RestaurantsTakeOut': 'True'}, 'categories': 'Cheesesteaks, Restaurants', 'hours': None}\n"
     ]
    }
   ],
   "source": [
    "for i in business_id.find({'business_id': 'Wttultg9Udt9MuxaGqLCDA'}):\n",
    "    print (i)"
   ]
  },
  {
   "cell_type": "code",
   "execution_count": 115,
   "metadata": {},
   "outputs": [
    {
     "data": {
      "text/plain": [
       "Index(['business_id', 'postal_code', 'neighborhood', 'categories', 'name',\n",
       "       'city', 'state', 'Alcohol', 'GoodForKids', 'OutdoorSeating',\n",
       "       'RestaurantsAttire', 'RestaurantsGoodForGroups',\n",
       "       'RestaurantsPriceRange2', 'RestaurantsTableService',\n",
       "       'RestaurantsTakeOut', 'romantic', 'intimate', 'classy', 'hipster',\n",
       "       'divey', 'touristy', 'trendy', 'upscale', 'casual'],\n",
       "      dtype='object')"
      ]
     },
     "execution_count": 115,
     "metadata": {},
     "output_type": "execute_result"
    }
   ],
   "source": [
    "bussiness_info_df.columns"
   ]
  },
  {
   "cell_type": "code",
   "execution_count": 170,
   "metadata": {
    "scrolled": false
   },
   "outputs": [],
   "source": [
    "#remove duplicate in bussiness\n",
    "bussiness_info_1_df.drop_duplicates(inplace = True)"
   ]
  },
  {
   "cell_type": "code",
   "execution_count": 180,
   "metadata": {},
   "outputs": [
    {
     "data": {
      "text/plain": [
       "ON     14389\n",
       "AZ     11072\n",
       "NV      7431\n",
       "QC      5346\n",
       "OH      5039\n",
       "NC      4166\n",
       "PA      3842\n",
       "AB      2914\n",
       "WI      1619\n",
       "IL       658\n",
       "SC       231\n",
       "NI        75\n",
       "NYK       64\n",
       "IN        61\n",
       "BY        41\n",
       "OR        29\n",
       "HE        26\n",
       "ST        25\n",
       "CO        25\n",
       "C         23\n",
       "RP        17\n",
       "XGM       13\n",
       "01        11\n",
       "NY        11\n",
       "NLK       10\n",
       "NW         4\n",
       "O          3\n",
       "VS         3\n",
       "B          2\n",
       "MO         2\n",
       "FL         1\n",
       "WAR        1\n",
       "11         1\n",
       "HU         1\n",
       "G          1\n",
       "SG         1\n",
       "M          1\n",
       "WHT        1\n",
       "4          1\n",
       "CA         1\n",
       "10         1\n",
       "PO         1\n",
       "BC         1\n",
       "V          1\n",
       "SP         1\n",
       "VA         1\n",
       "XMS        1\n",
       "45         1\n",
       "RCC        1\n",
       "AG         1\n",
       "6          1\n",
       "Name: state, dtype: int64"
      ]
     },
     "execution_count": 180,
     "metadata": {},
     "output_type": "execute_result"
    }
   ],
   "source": [
    "bussiness_info_1_df.state.value_counts()"
   ]
  },
  {
   "cell_type": "code",
   "execution_count": 182,
   "metadata": {},
   "outputs": [
    {
     "data": {
      "text/plain": [
       "Toronto                    7578\n",
       "Las Vegas                  6148\n",
       "Phoenix                    3832\n",
       "Montréal                   3532\n",
       "Calgary                    2794\n",
       "Charlotte                  2578\n",
       "Pittsburgh                 2305\n",
       "Scottsdale                 1509\n",
       "Cleveland                  1418\n",
       "Mississauga                1403\n",
       "Mesa                       1155\n",
       "Madison                    1127\n",
       "Tempe                       991\n",
       "Henderson                   847\n",
       "Chandler                    840\n",
       "Markham                     808\n",
       "Glendale                    690\n",
       "Scarborough                 550\n",
       "Gilbert                     547\n",
       "Brampton                    527\n",
       "Richmond Hill               482\n",
       "Vaughan                     445\n",
       "North York                  435\n",
       "Champaign                   403\n",
       "Peoria                      356\n",
       "Concord                     336\n",
       "North Las Vegas             335\n",
       "Oakville                    335\n",
       "Etobicoke                   309\n",
       "Laval                       270\n",
       "                           ... \n",
       "Saint-Henri                   1\n",
       "Churubusco                    1\n",
       "Phoenix Valley                1\n",
       "Kennedy Township              1\n",
       "Indianola                     1\n",
       "Bell                          1\n",
       "Lachenaie                     1\n",
       "Old Port of Montreal          1\n",
       "Gates Mills                   1\n",
       "Cuyahoga Fls                  1\n",
       "Midnapore                     1\n",
       "Mesa AZ                       1\n",
       "River Drive Park              1\n",
       "Montréal-Nord                 1\n",
       "Ste-Rose                      1\n",
       "Troy Township                 1\n",
       "Haus                          1\n",
       "N Ridgeville                  1\n",
       "Buena Vista                   1\n",
       "Baie-D'urfe                   1\n",
       "Pittsburg                     1\n",
       "Saint-Sauveur-des-Monts       1\n",
       "Norland                       1\n",
       "Las vegas                     1\n",
       "Sainte-thérèse                1\n",
       "Auburn Twp                    1\n",
       "Richmond Hil                  1\n",
       "McMasterville                 1\n",
       "Fisher                        1\n",
       "Maple Grove                   1\n",
       "Name: city, Length: 774, dtype: int64"
      ]
     },
     "execution_count": 182,
     "metadata": {},
     "output_type": "execute_result"
    }
   ],
   "source": [
    "bussiness_info_1_df.city.value_counts()"
   ]
  },
  {
   "cell_type": "code",
   "execution_count": 173,
   "metadata": {},
   "outputs": [],
   "source": [
    "from sklearn.utils import shuffle"
   ]
  },
  {
   "cell_type": "code",
   "execution_count": 174,
   "metadata": {},
   "outputs": [],
   "source": [
    "bussiness_info_1_df_shuffle = shuffle(bussiness_info_1_df)"
   ]
  },
  {
   "cell_type": "code",
   "execution_count": 176,
   "metadata": {},
   "outputs": [],
   "source": [
    "resturant_sample = bussiness_info_1_df_shuffle.tail(1000)"
   ]
  },
  {
   "cell_type": "code",
   "execution_count": 177,
   "metadata": {},
   "outputs": [
    {
     "data": {
      "text/plain": [
       "ON     246\n",
       "AZ     198\n",
       "NV     122\n",
       "OH      93\n",
       "QC      91\n",
       "PA      76\n",
       "NC      71\n",
       "AB      46\n",
       "WI      32\n",
       "IL       9\n",
       "SC       7\n",
       "NI       3\n",
       "NYK      2\n",
       "BY       1\n",
       "CO       1\n",
       "RCC      1\n",
       "RP       1\n",
       "Name: state, dtype: int64"
      ]
     },
     "execution_count": 177,
     "metadata": {},
     "output_type": "execute_result"
    }
   ],
   "source": [
    "resturant_sample.state.value_counts()"
   ]
  },
  {
   "cell_type": "code",
   "execution_count": 172,
   "metadata": {
    "scrolled": true
   },
   "outputs": [
    {
     "data": {
      "text/plain": [
       "ON     14389\n",
       "AZ     11072\n",
       "NV      7431\n",
       "QC      5346\n",
       "OH      5039\n",
       "NC      4166\n",
       "PA      3842\n",
       "AB      2914\n",
       "WI      1619\n",
       "IL       658\n",
       "SC       231\n",
       "NI        75\n",
       "NYK       64\n",
       "IN        61\n",
       "BY        41\n",
       "OR        29\n",
       "HE        26\n",
       "ST        25\n",
       "CO        25\n",
       "C         23\n",
       "RP        17\n",
       "XGM       13\n",
       "01        11\n",
       "NY        11\n",
       "NLK       10\n",
       "NW         4\n",
       "O          3\n",
       "VS         3\n",
       "B          2\n",
       "MO         2\n",
       "FL         1\n",
       "WAR        1\n",
       "11         1\n",
       "HU         1\n",
       "G          1\n",
       "SG         1\n",
       "M          1\n",
       "WHT        1\n",
       "4          1\n",
       "CA         1\n",
       "10         1\n",
       "PO         1\n",
       "BC         1\n",
       "V          1\n",
       "SP         1\n",
       "VA         1\n",
       "XMS        1\n",
       "45         1\n",
       "RCC        1\n",
       "AG         1\n",
       "6          1\n",
       "Name: state, dtype: int64"
      ]
     },
     "execution_count": 172,
     "metadata": {},
     "output_type": "execute_result"
    }
   ],
   "source": [
    "bussiness_info_1_df"
   ]
  },
  {
   "cell_type": "code",
   "execution_count": 119,
   "metadata": {},
   "outputs": [
    {
     "data": {
      "text/plain": [
       "pandas.core.series.Series"
      ]
     },
     "execution_count": 119,
     "metadata": {},
     "output_type": "execute_result"
    }
   ],
   "source": [
    "type(bussiness_info_df['business_id'])"
   ]
  },
  {
   "cell_type": "code",
   "execution_count": 120,
   "metadata": {},
   "outputs": [],
   "source": [
    "#get the review of the cheese. cheese_bussiness_catergory['business_id'] will be a list of bussiness_id\n",
    "#pull up the review with the bussiness_id in cheese bussiness_id\n",
    "review_all = list(review.find({\"business_id\":{\"$in\": list(bussiness_info_df['business_id'])}}))"
   ]
  },
  {
   "cell_type": "code",
   "execution_count": 122,
   "metadata": {
    "scrolled": true
   },
   "outputs": [
    {
     "data": {
      "text/plain": [
       "[{'_id': ObjectId('5be359139c79adcaa523f0c5'),\n",
       "  'review_id': 'x7mDIiDB3jEiPGPHOmDzyw',\n",
       "  'user_id': 'msQe1u7Z_XuqjGoqhB0J5g',\n",
       "  'business_id': 'iCQpiavjjPzJ5_3gPD5Ebg',\n",
       "  'stars': 2,\n",
       "  'date': '2011-02-25',\n",
       "  'text': \"The pizza was okay. Not the best I've had. I prefer Biaggio's on Flamingo / Fort Apache. The chef there can make a MUCH better NY style pizza. The pizzeria @ Cosmo was over priced for the quality and lack of personality in the food. Biaggio's is a much better pick if youre going for italian - family owned, home made recipes, people that actually CARE if you like their food. You dont get that at a pizzeria in a casino. I dont care what you say...\",\n",
       "  'useful': 0,\n",
       "  'funny': 0,\n",
       "  'cool': 0},\n",
       " {'_id': ObjectId('5be359139c79adcaa523f0c6'),\n",
       "  'review_id': 'Er4NBWCmCD4nM8_p1GRdow',\n",
       "  'user_id': 'msQe1u7Z_XuqjGoqhB0J5g',\n",
       "  'business_id': 'elqbBhBfElMNSrjFqW3now',\n",
       "  'stars': 2,\n",
       "  'date': '2011-02-25',\n",
       "  'text': 'Back in 2005-2007 this place was my FAVORITE thai place EVER. I\\'d go here ALLLLL the time. I never had any complaints. Once they started to get more known and got busy, their service started to suck and their portion sizes got cut in half. I have a huge problem with paying MORE for way less food. The last time I went there I had the Pork Pad se Ew and it tasted good, but I finished my plate and was still hungry. I used to know the manager here and she would greet me with a \"Hello Melissa, nice to see you again, diet coke & pad thai or pad se ew?\" Now a days, I know she still knows me but she disregards my presence. Also, I had asked her what was up with the new portion sizes and she had no answer for me. Great food but not worth the money. I havent been back in over a year because I refuse to pay $10-15 for dinner and still be hungry after. Sorry PinKaow, you are not what you used to be!!',\n",
       "  'useful': 2,\n",
       "  'funny': 0,\n",
       "  'cool': 0},\n",
       " {'_id': ObjectId('5be359139c79adcaa523f0c7'),\n",
       "  'review_id': 'jsDu6QEJHbwP2Blom1PLCA',\n",
       "  'user_id': 'msQe1u7Z_XuqjGoqhB0J5g',\n",
       "  'business_id': 'Ums3gaP2qM3W1XcA5r6SsQ',\n",
       "  'stars': 5,\n",
       "  'date': '2014-09-05',\n",
       "  'text': 'Delicious healthy food. The steak is amazing. Fish and pork are awesome too. Service is above and beyond. Not a bad thing to say about this place. Worth every penny!',\n",
       "  'useful': 0,\n",
       "  'funny': 0,\n",
       "  'cool': 0}]"
      ]
     },
     "execution_count": 122,
     "metadata": {},
     "output_type": "execute_result"
    }
   ],
   "source": [
    "review_all[:3]"
   ]
  },
  {
   "cell_type": "code",
   "execution_count": null,
   "metadata": {
    "scrolled": true
   },
   "outputs": [],
   "source": []
  },
  {
   "cell_type": "code",
   "execution_count": 125,
   "metadata": {},
   "outputs": [],
   "source": [
    "keys_1 = ['user_id','review_id', 'business_id', 'stars', 'date', 'text']\n",
    "review_all_dict = {key: [] for key in keys_1}\n"
   ]
  },
  {
   "cell_type": "code",
   "execution_count": 126,
   "metadata": {},
   "outputs": [
    {
     "data": {
      "text/plain": [
       "{'user_id': [],\n",
       " 'review_id': [],\n",
       " 'business_id': [],\n",
       " 'stars': [],\n",
       " 'date': [],\n",
       " 'text': []}"
      ]
     },
     "execution_count": 126,
     "metadata": {},
     "output_type": "execute_result"
    }
   ],
   "source": [
    "review_all_dict"
   ]
  },
  {
   "cell_type": "code",
   "execution_count": null,
   "metadata": {},
   "outputs": [],
   "source": []
  },
  {
   "cell_type": "code",
   "execution_count": null,
   "metadata": {},
   "outputs": [],
   "source": []
  },
  {
   "cell_type": "code",
   "execution_count": 127,
   "metadata": {
    "scrolled": true
   },
   "outputs": [],
   "source": [
    "for record in review_all:\n",
    "    #print (record)\n",
    "    review_all_dict['user_id'].append(record['user_id'])\n",
    "    review_all_dict['review_id'].append(record['review_id'])\n",
    "    review_all_dict['business_id'].append(record['business_id'])\n",
    "    review_all_dict['stars'].append(record['stars'])\n",
    "    review_all_dict['date'].append(record['date'])\n",
    "    review_all_dict['text'].append(record['text'])\n",
    "  "
   ]
  },
  {
   "cell_type": "code",
   "execution_count": null,
   "metadata": {},
   "outputs": [],
   "source": [
    "review_all_dict"
   ]
  },
  {
   "cell_type": "code",
   "execution_count": 128,
   "metadata": {},
   "outputs": [],
   "source": [
    "review_all_dict_df = pd.DataFrame.from_dict(review_all_dict)"
   ]
  },
  {
   "cell_type": "code",
   "execution_count": 130,
   "metadata": {},
   "outputs": [
    {
     "data": {
      "text/plain": [
       "(1510438, 6)"
      ]
     },
     "execution_count": 130,
     "metadata": {},
     "output_type": "execute_result"
    }
   ],
   "source": [
    "review_all_dict_df.shape"
   ]
  },
  {
   "cell_type": "code",
   "execution_count": 129,
   "metadata": {
    "scrolled": true
   },
   "outputs": [
    {
     "data": {
      "text/html": [
       "<div>\n",
       "<style scoped>\n",
       "    .dataframe tbody tr th:only-of-type {\n",
       "        vertical-align: middle;\n",
       "    }\n",
       "\n",
       "    .dataframe tbody tr th {\n",
       "        vertical-align: top;\n",
       "    }\n",
       "\n",
       "    .dataframe thead th {\n",
       "        text-align: right;\n",
       "    }\n",
       "</style>\n",
       "<table border=\"1\" class=\"dataframe\">\n",
       "  <thead>\n",
       "    <tr style=\"text-align: right;\">\n",
       "      <th></th>\n",
       "      <th>user_id</th>\n",
       "      <th>review_id</th>\n",
       "      <th>business_id</th>\n",
       "      <th>stars</th>\n",
       "      <th>date</th>\n",
       "      <th>text</th>\n",
       "    </tr>\n",
       "  </thead>\n",
       "  <tbody>\n",
       "    <tr>\n",
       "      <th>0</th>\n",
       "      <td>msQe1u7Z_XuqjGoqhB0J5g</td>\n",
       "      <td>x7mDIiDB3jEiPGPHOmDzyw</td>\n",
       "      <td>iCQpiavjjPzJ5_3gPD5Ebg</td>\n",
       "      <td>2</td>\n",
       "      <td>2011-02-25</td>\n",
       "      <td>The pizza was okay. Not the best I've had. I p...</td>\n",
       "    </tr>\n",
       "    <tr>\n",
       "      <th>1</th>\n",
       "      <td>msQe1u7Z_XuqjGoqhB0J5g</td>\n",
       "      <td>Er4NBWCmCD4nM8_p1GRdow</td>\n",
       "      <td>elqbBhBfElMNSrjFqW3now</td>\n",
       "      <td>2</td>\n",
       "      <td>2011-02-25</td>\n",
       "      <td>Back in 2005-2007 this place was my FAVORITE t...</td>\n",
       "    </tr>\n",
       "    <tr>\n",
       "      <th>2</th>\n",
       "      <td>msQe1u7Z_XuqjGoqhB0J5g</td>\n",
       "      <td>jsDu6QEJHbwP2Blom1PLCA</td>\n",
       "      <td>Ums3gaP2qM3W1XcA5r6SsQ</td>\n",
       "      <td>5</td>\n",
       "      <td>2014-09-05</td>\n",
       "      <td>Delicious healthy food. The steak is amazing. ...</td>\n",
       "    </tr>\n",
       "    <tr>\n",
       "      <th>3</th>\n",
       "      <td>msQe1u7Z_XuqjGoqhB0J5g</td>\n",
       "      <td>dDl8zu1vWPdKGihJrwQbpw</td>\n",
       "      <td>pomGBqfbxcqPv14c3XH-ZQ</td>\n",
       "      <td>5</td>\n",
       "      <td>2012-11-13</td>\n",
       "      <td>I love this place! My fiance And I go here atl...</td>\n",
       "    </tr>\n",
       "    <tr>\n",
       "      <th>4</th>\n",
       "      <td>msQe1u7Z_XuqjGoqhB0J5g</td>\n",
       "      <td>brokEno2n7s4vrwmmUdr9w</td>\n",
       "      <td>AxeQEz3-s9_1TyIo-G7UQw</td>\n",
       "      <td>5</td>\n",
       "      <td>2011-10-10</td>\n",
       "      <td>If you like Thai food, you have to try the ori...</td>\n",
       "    </tr>\n",
       "  </tbody>\n",
       "</table>\n",
       "</div>"
      ],
      "text/plain": [
       "                  user_id               review_id             business_id  \\\n",
       "0  msQe1u7Z_XuqjGoqhB0J5g  x7mDIiDB3jEiPGPHOmDzyw  iCQpiavjjPzJ5_3gPD5Ebg   \n",
       "1  msQe1u7Z_XuqjGoqhB0J5g  Er4NBWCmCD4nM8_p1GRdow  elqbBhBfElMNSrjFqW3now   \n",
       "2  msQe1u7Z_XuqjGoqhB0J5g  jsDu6QEJHbwP2Blom1PLCA  Ums3gaP2qM3W1XcA5r6SsQ   \n",
       "3  msQe1u7Z_XuqjGoqhB0J5g  dDl8zu1vWPdKGihJrwQbpw  pomGBqfbxcqPv14c3XH-ZQ   \n",
       "4  msQe1u7Z_XuqjGoqhB0J5g  brokEno2n7s4vrwmmUdr9w  AxeQEz3-s9_1TyIo-G7UQw   \n",
       "\n",
       "   stars        date                                               text  \n",
       "0      2  2011-02-25  The pizza was okay. Not the best I've had. I p...  \n",
       "1      2  2011-02-25  Back in 2005-2007 this place was my FAVORITE t...  \n",
       "2      5  2014-09-05  Delicious healthy food. The steak is amazing. ...  \n",
       "3      5  2012-11-13  I love this place! My fiance And I go here atl...  \n",
       "4      5  2011-10-10  If you like Thai food, you have to try the ori...  "
      ]
     },
     "execution_count": 129,
     "metadata": {},
     "output_type": "execute_result"
    }
   ],
   "source": [
    "review_all_dict_df.head()"
   ]
  },
  {
   "cell_type": "code",
   "execution_count": 131,
   "metadata": {},
   "outputs": [],
   "source": [
    "bussiness_review_info = pd.merge(bussiness_info_df, review_all_dict_df, on='business_id')"
   ]
  },
  {
   "cell_type": "code",
   "execution_count": 132,
   "metadata": {},
   "outputs": [
    {
     "data": {
      "text/plain": [
       "(1510438, 29)"
      ]
     },
     "execution_count": 132,
     "metadata": {},
     "output_type": "execute_result"
    }
   ],
   "source": [
    "bussiness_review_info.shape"
   ]
  },
  {
   "cell_type": "code",
   "execution_count": 138,
   "metadata": {},
   "outputs": [],
   "source": [
    "bussiness_review_info.to_pickle('bussiness_review_info')"
   ]
  },
  {
   "cell_type": "code",
   "execution_count": 143,
   "metadata": {},
   "outputs": [],
   "source": [
    "bussiness_review_info_groupby_bussiness = bussiness_review_info.groupby('business_id').count()"
   ]
  },
  {
   "cell_type": "code",
   "execution_count": null,
   "metadata": {},
   "outputs": [],
   "source": [
    "bussiness_review_info.groupby"
   ]
  },
  {
   "cell_type": "code",
   "execution_count": 146,
   "metadata": {},
   "outputs": [],
   "source": [
    "bussiness_review_info.sort_values(by = 'business_id', inplace = True)"
   ]
  },
  {
   "cell_type": "code",
   "execution_count": 151,
   "metadata": {
    "scrolled": true
   },
   "outputs": [
    {
     "data": {
      "text/plain": [
       "AZ     517071\n",
       "NV     482495\n",
       "ON     171421\n",
       "NC      92879\n",
       "PA      70050\n",
       "OH      69939\n",
       "QC      37549\n",
       "WI      34054\n",
       "AB      18292\n",
       "IL      12175\n",
       "SC       3185\n",
       "OR        533\n",
       "IN        307\n",
       "BY        106\n",
       "NI        104\n",
       "NYK        48\n",
       "NY         42\n",
       "XGM        29\n",
       "01         26\n",
       "C          26\n",
       "CO         25\n",
       "HE         18\n",
       "FL         17\n",
       "ST         13\n",
       "G          11\n",
       "RP         10\n",
       "CA          4\n",
       "NLK         3\n",
       "WHT         3\n",
       "10          3\n",
       "Name: state, dtype: int64"
      ]
     },
     "execution_count": 151,
     "metadata": {},
     "output_type": "execute_result"
    }
   ],
   "source": [
    "bussiness_review_info.state.value_counts()"
   ]
  },
  {
   "cell_type": "code",
   "execution_count": 149,
   "metadata": {},
   "outputs": [],
   "source": [
    "CA_df = bussiness_review_info.loc[bussiness_review_info['state'] == 'CA']"
   ]
  },
  {
   "cell_type": "code",
   "execution_count": 150,
   "metadata": {},
   "outputs": [
    {
     "data": {
      "text/plain": [
       "(4, 29)"
      ]
     },
     "execution_count": 150,
     "metadata": {},
     "output_type": "execute_result"
    }
   ],
   "source": [
    "CA_df.shape"
   ]
  },
  {
   "cell_type": "code",
   "execution_count": 136,
   "metadata": {},
   "outputs": [],
   "source": [
    "bussiness_review_info_1 = bussiness_review_info.drop_duplicates()"
   ]
  },
  {
   "cell_type": "code",
   "execution_count": 137,
   "metadata": {},
   "outputs": [
    {
     "data": {
      "text/plain": [
       "(1510438, 29)"
      ]
     },
     "execution_count": 137,
     "metadata": {},
     "output_type": "execute_result"
    }
   ],
   "source": [
    "bussiness_review_info_1.shape"
   ]
  },
  {
   "cell_type": "code",
   "execution_count": 371,
   "metadata": {
    "scrolled": false
   },
   "outputs": [
    {
     "data": {
      "text/html": [
       "<div>\n",
       "<style scoped>\n",
       "    .dataframe tbody tr th:only-of-type {\n",
       "        vertical-align: middle;\n",
       "    }\n",
       "\n",
       "    .dataframe tbody tr th {\n",
       "        vertical-align: top;\n",
       "    }\n",
       "\n",
       "    .dataframe thead th {\n",
       "        text-align: right;\n",
       "    }\n",
       "</style>\n",
       "<table border=\"1\" class=\"dataframe\">\n",
       "  <thead>\n",
       "    <tr style=\"text-align: right;\">\n",
       "      <th></th>\n",
       "      <th>business_id</th>\n",
       "      <th>text</th>\n",
       "    </tr>\n",
       "  </thead>\n",
       "  <tbody>\n",
       "    <tr>\n",
       "      <th>0</th>\n",
       "      <td>hIgGkG1JnHX4xmVuOgegDw</td>\n",
       "      <td>This place has 2 sandwiches cheese steak and c...</td>\n",
       "    </tr>\n",
       "    <tr>\n",
       "      <th>432</th>\n",
       "      <td>xkVMIk_Vqh17f48ZQ_6b0w</td>\n",
       "      <td>I had high hopes for Craftsteak, and it defini...</td>\n",
       "    </tr>\n",
       "    <tr>\n",
       "      <th>2630</th>\n",
       "      <td>DD4d-8-DjnnXBE7lJ6w92A</td>\n",
       "      <td>Ok so this place is no good in my opinion, wou...</td>\n",
       "    </tr>\n",
       "    <tr>\n",
       "      <th>2674</th>\n",
       "      <td>IFaRfrlwhQo4gILB0wmA-g</td>\n",
       "      <td>Very good food!  (I've eaten almost everything...</td>\n",
       "    </tr>\n",
       "    <tr>\n",
       "      <th>2768</th>\n",
       "      <td>IOEGLxXwCNiq4P-U359D7Q</td>\n",
       "      <td>Pizza is so subjective, but this is my favorit...</td>\n",
       "    </tr>\n",
       "    <tr>\n",
       "      <th>3228</th>\n",
       "      <td>lsxbnkAD5DZ4SuVPrFx39A</td>\n",
       "      <td>Living in the Junction and relying on transit ...</td>\n",
       "    </tr>\n",
       "    <tr>\n",
       "      <th>3236</th>\n",
       "      <td>p5PRvPUhJrA-QHhm5xOU7Q</td>\n",
       "      <td>This is my happy place!  Discovered it about 3...</td>\n",
       "    </tr>\n",
       "    <tr>\n",
       "      <th>3440</th>\n",
       "      <td>L9pTWWAATj7HoLaRe6ZA1Q</td>\n",
       "      <td>Great food and the service was outstanding! \\n...</td>\n",
       "    </tr>\n",
       "    <tr>\n",
       "      <th>3831</th>\n",
       "      <td>sPwgafejYVdf8hd4-oDYVg</td>\n",
       "      <td>By far my favorite wing place. Don't let the s...</td>\n",
       "    </tr>\n",
       "    <tr>\n",
       "      <th>4050</th>\n",
       "      <td>LFOIMbdGcwEFsUVJKB6_Ng</td>\n",
       "      <td>My son who is 11 just tried the gluten free pi...</td>\n",
       "    </tr>\n",
       "    <tr>\n",
       "      <th>4205</th>\n",
       "      <td>c2sDJFcMv-r5V1d85KUM-w</td>\n",
       "      <td>the best place on earth. despite being pretty ...</td>\n",
       "    </tr>\n",
       "    <tr>\n",
       "      <th>4254</th>\n",
       "      <td>ljLq8ZTLO52rzwsEeaWZKg</td>\n",
       "      <td>Great little place, kids favorite! The cheeses...</td>\n",
       "    </tr>\n",
       "    <tr>\n",
       "      <th>4424</th>\n",
       "      <td>Kq8v2R5g9cpQF7QRSlQOMw</td>\n",
       "      <td>So, a friend told me I should try the Veggie B...</td>\n",
       "    </tr>\n",
       "    <tr>\n",
       "      <th>4586</th>\n",
       "      <td>QyFciCaAJkniP506PP43ng</td>\n",
       "      <td>I live nearby so I thought I'd try their wings...</td>\n",
       "    </tr>\n",
       "    <tr>\n",
       "      <th>4669</th>\n",
       "      <td>pKk7jCFIm96qDdk0laVT2w</td>\n",
       "      <td>A bunch of friends get together. Expect to spe...</td>\n",
       "    </tr>\n",
       "    <tr>\n",
       "      <th>5805</th>\n",
       "      <td>1uvcySLWM75MzlLM12F8dA</td>\n",
       "      <td>The international Cheese shop in Pennsylvania ...</td>\n",
       "    </tr>\n",
       "    <tr>\n",
       "      <th>5981</th>\n",
       "      <td>vtEwge-BXI5DHTwYKgK25Q</td>\n",
       "      <td>Latina provides a great mix of specialty impor...</td>\n",
       "    </tr>\n",
       "    <tr>\n",
       "      <th>5998</th>\n",
       "      <td>TkNhGEsi7BOXk7LzDpbHVg</td>\n",
       "      <td>Fou d'Ici is a new downtown épicerie made to h...</td>\n",
       "    </tr>\n",
       "    <tr>\n",
       "      <th>6019</th>\n",
       "      <td>3-6biVwm7VwPZ-k67jml-Q</td>\n",
       "      <td>What a perfect find for my Italian self!! My b...</td>\n",
       "    </tr>\n",
       "    <tr>\n",
       "      <th>6387</th>\n",
       "      <td>4HEF6BuO_BBsTmvcMCbhhg</td>\n",
       "      <td>Great wine selection! 32 different wine to cho...</td>\n",
       "    </tr>\n",
       "    <tr>\n",
       "      <th>6624</th>\n",
       "      <td>OMm3KPJkkbfq3SMXqhZ0uQ</td>\n",
       "      <td>Cheese steaks are pretty good,  but omg the sw...</td>\n",
       "    </tr>\n",
       "    <tr>\n",
       "      <th>6734</th>\n",
       "      <td>MngIoRvkDxrePOVZNg_06g</td>\n",
       "      <td>I received this catalog and thought this would...</td>\n",
       "    </tr>\n",
       "    <tr>\n",
       "      <th>6741</th>\n",
       "      <td>MlwsOef4hDJVHWOzutE6yw</td>\n",
       "      <td>We solely came to this place for the Tiramisu ...</td>\n",
       "    </tr>\n",
       "    <tr>\n",
       "      <th>6848</th>\n",
       "      <td>-QIQLK8RR6rl7v19cAQQHg</td>\n",
       "      <td>They didn't have the meat for the sandwich I o...</td>\n",
       "    </tr>\n",
       "    <tr>\n",
       "      <th>7005</th>\n",
       "      <td>mlqdbe7cC5xgg0KSSPyasA</td>\n",
       "      <td>There was a time when Penn Station subs were h...</td>\n",
       "    </tr>\n",
       "    <tr>\n",
       "      <th>7011</th>\n",
       "      <td>5R03yx9yR4VkK1L-Waj4Pw</td>\n",
       "      <td>There was a time when Penn Station subs were h...</td>\n",
       "    </tr>\n",
       "    <tr>\n",
       "      <th>7019</th>\n",
       "      <td>21fK0m8sQFbRQv3RlskE2w</td>\n",
       "      <td>I had lunch here and to be honest its the firs...</td>\n",
       "    </tr>\n",
       "    <tr>\n",
       "      <th>7131</th>\n",
       "      <td>I8DIq321Tkm-wi9z5gTv9A</td>\n",
       "      <td>We were pretty excited to see that we were get...</td>\n",
       "    </tr>\n",
       "    <tr>\n",
       "      <th>7394</th>\n",
       "      <td>iiuEt92eGGy_fTvywsTBbA</td>\n",
       "      <td>I NEVER leave bad reviews for places. I just d...</td>\n",
       "    </tr>\n",
       "    <tr>\n",
       "      <th>7513</th>\n",
       "      <td>GZifPY-KTnZQ9iYfGwT2wg</td>\n",
       "      <td>Awesome people and the owner super friendly. W...</td>\n",
       "    </tr>\n",
       "    <tr>\n",
       "      <th>...</th>\n",
       "      <td>...</td>\n",
       "      <td>...</td>\n",
       "    </tr>\n",
       "    <tr>\n",
       "      <th>18067</th>\n",
       "      <td>aPhxmyXOBKtxdv47EYkcHQ</td>\n",
       "      <td>Wanted to try this place for a while now. Fina...</td>\n",
       "    </tr>\n",
       "    <tr>\n",
       "      <th>18073</th>\n",
       "      <td>d2yEVlD-cGHj7p_cb7FqqQ</td>\n",
       "      <td>Food is always fresh and employees are always ...</td>\n",
       "    </tr>\n",
       "    <tr>\n",
       "      <th>18077</th>\n",
       "      <td>OvxbkxlD8FLjBGtNtYLbjw</td>\n",
       "      <td>Mmmmm stinky Cheese!  I love stinky cheese.  \\...</td>\n",
       "    </tr>\n",
       "    <tr>\n",
       "      <th>18086</th>\n",
       "      <td>EKI1r0iUMLu6dtsZ3xEa3g</td>\n",
       "      <td>Penn Station in Avon is finally OPEN!! *Happy ...</td>\n",
       "    </tr>\n",
       "    <tr>\n",
       "      <th>18090</th>\n",
       "      <td>80LCPTNO0LM_7Vg9nV9B7w</td>\n",
       "      <td>Un incontournable pour les amoureux du fromage...</td>\n",
       "    </tr>\n",
       "    <tr>\n",
       "      <th>18094</th>\n",
       "      <td>uKCCJB-OkAtLBunNFDIrxw</td>\n",
       "      <td>Horrible, horrible service. 7 subs took over a...</td>\n",
       "    </tr>\n",
       "    <tr>\n",
       "      <th>18098</th>\n",
       "      <td>53sfFpflCrVv-rb0HCVnjA</td>\n",
       "      <td>Depuis quelques mois et le changement de propr...</td>\n",
       "    </tr>\n",
       "    <tr>\n",
       "      <th>18102</th>\n",
       "      <td>e9wYr5tY35fPsVvHesmYXQ</td>\n",
       "      <td>Pretty affordable considering the prices in th...</td>\n",
       "    </tr>\n",
       "    <tr>\n",
       "      <th>18106</th>\n",
       "      <td>725JDJNs4lmn8a35PGliKA</td>\n",
       "      <td>Well-curated selection of cheese. Stay in for ...</td>\n",
       "    </tr>\n",
       "    <tr>\n",
       "      <th>18112</th>\n",
       "      <td>0bWa6gq8KST_Gopiy5klcA</td>\n",
       "      <td>A welcome addition to a somewhat industrial st...</td>\n",
       "    </tr>\n",
       "    <tr>\n",
       "      <th>18115</th>\n",
       "      <td>Kx-ENvzuh8HB-W_xbT5jrg</td>\n",
       "      <td>Bomb.com so juicy and fresh tasting, I absolut...</td>\n",
       "    </tr>\n",
       "    <tr>\n",
       "      <th>18118</th>\n",
       "      <td>EEtS_9nmiJwZwzXpvoR_-A</td>\n",
       "      <td>This used to be the hot spot for lunch time wh...</td>\n",
       "    </tr>\n",
       "    <tr>\n",
       "      <th>18122</th>\n",
       "      <td>Gho38SoO_9dq6hhT4Ll-5g</td>\n",
       "      <td>Finding a truly great cheesesteak in Glendale ...</td>\n",
       "    </tr>\n",
       "    <tr>\n",
       "      <th>18125</th>\n",
       "      <td>dt5yEGC8yy_V7FAC1AcWdw</td>\n",
       "      <td>Great spot to satisfy your craving for a Phill...</td>\n",
       "    </tr>\n",
       "    <tr>\n",
       "      <th>18128</th>\n",
       "      <td>SU3GvpWHKoqjz9VBuokN3Q</td>\n",
       "      <td>Don't be fooled by the name, this is more than...</td>\n",
       "    </tr>\n",
       "    <tr>\n",
       "      <th>18132</th>\n",
       "      <td>QnCWy07Vlp3F0rTruTTlfg</td>\n",
       "      <td>Love stopping by this cute little place on my ...</td>\n",
       "    </tr>\n",
       "    <tr>\n",
       "      <th>18136</th>\n",
       "      <td>bUQv1lL3ZvAcXOsXk7GehQ</td>\n",
       "      <td>I've been watching this place for a while now ...</td>\n",
       "    </tr>\n",
       "    <tr>\n",
       "      <th>18139</th>\n",
       "      <td>Rp4PlhfUazz3SFqB8-3w2w</td>\n",
       "      <td>Excellent service and even better meats. Dave ...</td>\n",
       "    </tr>\n",
       "    <tr>\n",
       "      <th>18144</th>\n",
       "      <td>2MxoDbw9-RtTBlQkFXAHmw</td>\n",
       "      <td>One of the best Mr hero's around.  Nice people...</td>\n",
       "    </tr>\n",
       "    <tr>\n",
       "      <th>18149</th>\n",
       "      <td>Iz8Mi3qXqRW2JMaLJTTlLQ</td>\n",
       "      <td>Just had my first lunch here.  I chose the avo...</td>\n",
       "    </tr>\n",
       "    <tr>\n",
       "      <th>18152</th>\n",
       "      <td>KXwCMad-UK2_Y5_LjAVjlA</td>\n",
       "      <td>Huge fan of the Philly! You must try the Rattl...</td>\n",
       "    </tr>\n",
       "    <tr>\n",
       "      <th>18156</th>\n",
       "      <td>irzQzlXJPhny2QtMa-94-Q</td>\n",
       "      <td>So excited to see you guys back on the old nei...</td>\n",
       "    </tr>\n",
       "    <tr>\n",
       "      <th>18159</th>\n",
       "      <td>VmIWtyejlvSOIDoBGztNag</td>\n",
       "      <td>Best new eatery and specialty foods shop in th...</td>\n",
       "    </tr>\n",
       "    <tr>\n",
       "      <th>18162</th>\n",
       "      <td>68s6PZRs6bQ9Nqtppdzpuw</td>\n",
       "      <td>I've never had a Philly Cheese Steak before an...</td>\n",
       "    </tr>\n",
       "    <tr>\n",
       "      <th>18165</th>\n",
       "      <td>ErcqmJQObybA8bA31xu1BA</td>\n",
       "      <td>Super knowledgeable and friendly staff. Great ...</td>\n",
       "    </tr>\n",
       "    <tr>\n",
       "      <th>18171</th>\n",
       "      <td>RFm8rCQqq3lw4gfdmXTk6Q</td>\n",
       "      <td>You rarely find a guy who cares about his busi...</td>\n",
       "    </tr>\n",
       "    <tr>\n",
       "      <th>18176</th>\n",
       "      <td>9io8AlKbVFrXfna7G7kMDA</td>\n",
       "      <td>I used to really enjoy this place, but theif s...</td>\n",
       "    </tr>\n",
       "    <tr>\n",
       "      <th>18180</th>\n",
       "      <td>i_WEjpxCUCngB6C5tYZB-A</td>\n",
       "      <td>The best kept secret of the east end. If you h...</td>\n",
       "    </tr>\n",
       "    <tr>\n",
       "      <th>18183</th>\n",
       "      <td>wcBxjK5CdOuVOQCRMfd6Hw</td>\n",
       "      <td>After a few write ups, I went and checked them...</td>\n",
       "    </tr>\n",
       "    <tr>\n",
       "      <th>18186</th>\n",
       "      <td>ujHyL38EI-OxAyN4_En3wA</td>\n",
       "      <td>This stuff is the best around and featured by ...</td>\n",
       "    </tr>\n",
       "  </tbody>\n",
       "</table>\n",
       "<p>381 rows × 2 columns</p>\n",
       "</div>"
      ],
      "text/plain": [
       "                  business_id  \\\n",
       "0      hIgGkG1JnHX4xmVuOgegDw   \n",
       "432    xkVMIk_Vqh17f48ZQ_6b0w   \n",
       "2630   DD4d-8-DjnnXBE7lJ6w92A   \n",
       "2674   IFaRfrlwhQo4gILB0wmA-g   \n",
       "2768   IOEGLxXwCNiq4P-U359D7Q   \n",
       "3228   lsxbnkAD5DZ4SuVPrFx39A   \n",
       "3236   p5PRvPUhJrA-QHhm5xOU7Q   \n",
       "3440   L9pTWWAATj7HoLaRe6ZA1Q   \n",
       "3831   sPwgafejYVdf8hd4-oDYVg   \n",
       "4050   LFOIMbdGcwEFsUVJKB6_Ng   \n",
       "4205   c2sDJFcMv-r5V1d85KUM-w   \n",
       "4254   ljLq8ZTLO52rzwsEeaWZKg   \n",
       "4424   Kq8v2R5g9cpQF7QRSlQOMw   \n",
       "4586   QyFciCaAJkniP506PP43ng   \n",
       "4669   pKk7jCFIm96qDdk0laVT2w   \n",
       "5805   1uvcySLWM75MzlLM12F8dA   \n",
       "5981   vtEwge-BXI5DHTwYKgK25Q   \n",
       "5998   TkNhGEsi7BOXk7LzDpbHVg   \n",
       "6019   3-6biVwm7VwPZ-k67jml-Q   \n",
       "6387   4HEF6BuO_BBsTmvcMCbhhg   \n",
       "6624   OMm3KPJkkbfq3SMXqhZ0uQ   \n",
       "6734   MngIoRvkDxrePOVZNg_06g   \n",
       "6741   MlwsOef4hDJVHWOzutE6yw   \n",
       "6848   -QIQLK8RR6rl7v19cAQQHg   \n",
       "7005   mlqdbe7cC5xgg0KSSPyasA   \n",
       "7011   5R03yx9yR4VkK1L-Waj4Pw   \n",
       "7019   21fK0m8sQFbRQv3RlskE2w   \n",
       "7131   I8DIq321Tkm-wi9z5gTv9A   \n",
       "7394   iiuEt92eGGy_fTvywsTBbA   \n",
       "7513   GZifPY-KTnZQ9iYfGwT2wg   \n",
       "...                       ...   \n",
       "18067  aPhxmyXOBKtxdv47EYkcHQ   \n",
       "18073  d2yEVlD-cGHj7p_cb7FqqQ   \n",
       "18077  OvxbkxlD8FLjBGtNtYLbjw   \n",
       "18086  EKI1r0iUMLu6dtsZ3xEa3g   \n",
       "18090  80LCPTNO0LM_7Vg9nV9B7w   \n",
       "18094  uKCCJB-OkAtLBunNFDIrxw   \n",
       "18098  53sfFpflCrVv-rb0HCVnjA   \n",
       "18102  e9wYr5tY35fPsVvHesmYXQ   \n",
       "18106  725JDJNs4lmn8a35PGliKA   \n",
       "18112  0bWa6gq8KST_Gopiy5klcA   \n",
       "18115  Kx-ENvzuh8HB-W_xbT5jrg   \n",
       "18118  EEtS_9nmiJwZwzXpvoR_-A   \n",
       "18122  Gho38SoO_9dq6hhT4Ll-5g   \n",
       "18125  dt5yEGC8yy_V7FAC1AcWdw   \n",
       "18128  SU3GvpWHKoqjz9VBuokN3Q   \n",
       "18132  QnCWy07Vlp3F0rTruTTlfg   \n",
       "18136  bUQv1lL3ZvAcXOsXk7GehQ   \n",
       "18139  Rp4PlhfUazz3SFqB8-3w2w   \n",
       "18144  2MxoDbw9-RtTBlQkFXAHmw   \n",
       "18149  Iz8Mi3qXqRW2JMaLJTTlLQ   \n",
       "18152  KXwCMad-UK2_Y5_LjAVjlA   \n",
       "18156  irzQzlXJPhny2QtMa-94-Q   \n",
       "18159  VmIWtyejlvSOIDoBGztNag   \n",
       "18162  68s6PZRs6bQ9Nqtppdzpuw   \n",
       "18165  ErcqmJQObybA8bA31xu1BA   \n",
       "18171  RFm8rCQqq3lw4gfdmXTk6Q   \n",
       "18176  9io8AlKbVFrXfna7G7kMDA   \n",
       "18180  i_WEjpxCUCngB6C5tYZB-A   \n",
       "18183  wcBxjK5CdOuVOQCRMfd6Hw   \n",
       "18186  ujHyL38EI-OxAyN4_En3wA   \n",
       "\n",
       "                                                    text  \n",
       "0      This place has 2 sandwiches cheese steak and c...  \n",
       "432    I had high hopes for Craftsteak, and it defini...  \n",
       "2630   Ok so this place is no good in my opinion, wou...  \n",
       "2674   Very good food!  (I've eaten almost everything...  \n",
       "2768   Pizza is so subjective, but this is my favorit...  \n",
       "3228   Living in the Junction and relying on transit ...  \n",
       "3236   This is my happy place!  Discovered it about 3...  \n",
       "3440   Great food and the service was outstanding! \\n...  \n",
       "3831   By far my favorite wing place. Don't let the s...  \n",
       "4050   My son who is 11 just tried the gluten free pi...  \n",
       "4205   the best place on earth. despite being pretty ...  \n",
       "4254   Great little place, kids favorite! The cheeses...  \n",
       "4424   So, a friend told me I should try the Veggie B...  \n",
       "4586   I live nearby so I thought I'd try their wings...  \n",
       "4669   A bunch of friends get together. Expect to spe...  \n",
       "5805   The international Cheese shop in Pennsylvania ...  \n",
       "5981   Latina provides a great mix of specialty impor...  \n",
       "5998   Fou d'Ici is a new downtown épicerie made to h...  \n",
       "6019   What a perfect find for my Italian self!! My b...  \n",
       "6387   Great wine selection! 32 different wine to cho...  \n",
       "6624   Cheese steaks are pretty good,  but omg the sw...  \n",
       "6734   I received this catalog and thought this would...  \n",
       "6741   We solely came to this place for the Tiramisu ...  \n",
       "6848   They didn't have the meat for the sandwich I o...  \n",
       "7005   There was a time when Penn Station subs were h...  \n",
       "7011   There was a time when Penn Station subs were h...  \n",
       "7019   I had lunch here and to be honest its the firs...  \n",
       "7131   We were pretty excited to see that we were get...  \n",
       "7394   I NEVER leave bad reviews for places. I just d...  \n",
       "7513   Awesome people and the owner super friendly. W...  \n",
       "...                                                  ...  \n",
       "18067  Wanted to try this place for a while now. Fina...  \n",
       "18073  Food is always fresh and employees are always ...  \n",
       "18077  Mmmmm stinky Cheese!  I love stinky cheese.  \\...  \n",
       "18086  Penn Station in Avon is finally OPEN!! *Happy ...  \n",
       "18090  Un incontournable pour les amoureux du fromage...  \n",
       "18094  Horrible, horrible service. 7 subs took over a...  \n",
       "18098  Depuis quelques mois et le changement de propr...  \n",
       "18102  Pretty affordable considering the prices in th...  \n",
       "18106  Well-curated selection of cheese. Stay in for ...  \n",
       "18112  A welcome addition to a somewhat industrial st...  \n",
       "18115  Bomb.com so juicy and fresh tasting, I absolut...  \n",
       "18118  This used to be the hot spot for lunch time wh...  \n",
       "18122  Finding a truly great cheesesteak in Glendale ...  \n",
       "18125  Great spot to satisfy your craving for a Phill...  \n",
       "18128  Don't be fooled by the name, this is more than...  \n",
       "18132  Love stopping by this cute little place on my ...  \n",
       "18136  I've been watching this place for a while now ...  \n",
       "18139  Excellent service and even better meats. Dave ...  \n",
       "18144  One of the best Mr hero's around.  Nice people...  \n",
       "18149  Just had my first lunch here.  I chose the avo...  \n",
       "18152  Huge fan of the Philly! You must try the Rattl...  \n",
       "18156  So excited to see you guys back on the old nei...  \n",
       "18159  Best new eatery and specialty foods shop in th...  \n",
       "18162  I've never had a Philly Cheese Steak before an...  \n",
       "18165  Super knowledgeable and friendly staff. Great ...  \n",
       "18171  You rarely find a guy who cares about his busi...  \n",
       "18176  I used to really enjoy this place, but theif s...  \n",
       "18180  The best kept secret of the east end. If you h...  \n",
       "18183  After a few write ups, I went and checked them...  \n",
       "18186  This stuff is the best around and featured by ...  \n",
       "\n",
       "[381 rows x 2 columns]"
      ]
     },
     "execution_count": 371,
     "metadata": {},
     "output_type": "execute_result"
    }
   ],
   "source": [
    "# df = cheese_bussiness_review.groupby(['business_id'])['text'].transform(lambda x: ','.join(x)).drop_duplicates()\n",
    "df = cheese_bussiness_review.copy()\n",
    "df['text'] = cheese_bussiness_review[['business_id','text']].groupby(['business_id'])['text'].transform(lambda x: ' '.join(x))\n",
    "df[['business_id','text']].drop_duplicates()\n",
    "\n"
   ]
  },
  {
   "cell_type": "code",
   "execution_count": 373,
   "metadata": {},
   "outputs": [],
   "source": [
    "concate_review_df = df[['business_id','text']].drop_duplicates()"
   ]
  },
  {
   "cell_type": "code",
   "execution_count": 374,
   "metadata": {},
   "outputs": [
    {
     "data": {
      "text/html": [
       "<div>\n",
       "<style scoped>\n",
       "    .dataframe tbody tr th:only-of-type {\n",
       "        vertical-align: middle;\n",
       "    }\n",
       "\n",
       "    .dataframe tbody tr th {\n",
       "        vertical-align: top;\n",
       "    }\n",
       "\n",
       "    .dataframe thead th {\n",
       "        text-align: right;\n",
       "    }\n",
       "</style>\n",
       "<table border=\"1\" class=\"dataframe\">\n",
       "  <thead>\n",
       "    <tr style=\"text-align: right;\">\n",
       "      <th></th>\n",
       "      <th>business_id</th>\n",
       "      <th>text</th>\n",
       "    </tr>\n",
       "  </thead>\n",
       "  <tbody>\n",
       "    <tr>\n",
       "      <th>0</th>\n",
       "      <td>hIgGkG1JnHX4xmVuOgegDw</td>\n",
       "      <td>This place has 2 sandwiches cheese steak and c...</td>\n",
       "    </tr>\n",
       "    <tr>\n",
       "      <th>432</th>\n",
       "      <td>xkVMIk_Vqh17f48ZQ_6b0w</td>\n",
       "      <td>I had high hopes for Craftsteak, and it defini...</td>\n",
       "    </tr>\n",
       "    <tr>\n",
       "      <th>2630</th>\n",
       "      <td>DD4d-8-DjnnXBE7lJ6w92A</td>\n",
       "      <td>Ok so this place is no good in my opinion, wou...</td>\n",
       "    </tr>\n",
       "    <tr>\n",
       "      <th>2674</th>\n",
       "      <td>IFaRfrlwhQo4gILB0wmA-g</td>\n",
       "      <td>Very good food!  (I've eaten almost everything...</td>\n",
       "    </tr>\n",
       "    <tr>\n",
       "      <th>2768</th>\n",
       "      <td>IOEGLxXwCNiq4P-U359D7Q</td>\n",
       "      <td>Pizza is so subjective, but this is my favorit...</td>\n",
       "    </tr>\n",
       "    <tr>\n",
       "      <th>3228</th>\n",
       "      <td>lsxbnkAD5DZ4SuVPrFx39A</td>\n",
       "      <td>Living in the Junction and relying on transit ...</td>\n",
       "    </tr>\n",
       "    <tr>\n",
       "      <th>3236</th>\n",
       "      <td>p5PRvPUhJrA-QHhm5xOU7Q</td>\n",
       "      <td>This is my happy place!  Discovered it about 3...</td>\n",
       "    </tr>\n",
       "    <tr>\n",
       "      <th>3440</th>\n",
       "      <td>L9pTWWAATj7HoLaRe6ZA1Q</td>\n",
       "      <td>Great food and the service was outstanding! \\n...</td>\n",
       "    </tr>\n",
       "    <tr>\n",
       "      <th>3831</th>\n",
       "      <td>sPwgafejYVdf8hd4-oDYVg</td>\n",
       "      <td>By far my favorite wing place. Don't let the s...</td>\n",
       "    </tr>\n",
       "    <tr>\n",
       "      <th>4050</th>\n",
       "      <td>LFOIMbdGcwEFsUVJKB6_Ng</td>\n",
       "      <td>My son who is 11 just tried the gluten free pi...</td>\n",
       "    </tr>\n",
       "    <tr>\n",
       "      <th>4205</th>\n",
       "      <td>c2sDJFcMv-r5V1d85KUM-w</td>\n",
       "      <td>the best place on earth. despite being pretty ...</td>\n",
       "    </tr>\n",
       "    <tr>\n",
       "      <th>4254</th>\n",
       "      <td>ljLq8ZTLO52rzwsEeaWZKg</td>\n",
       "      <td>Great little place, kids favorite! The cheeses...</td>\n",
       "    </tr>\n",
       "    <tr>\n",
       "      <th>4424</th>\n",
       "      <td>Kq8v2R5g9cpQF7QRSlQOMw</td>\n",
       "      <td>So, a friend told me I should try the Veggie B...</td>\n",
       "    </tr>\n",
       "    <tr>\n",
       "      <th>4586</th>\n",
       "      <td>QyFciCaAJkniP506PP43ng</td>\n",
       "      <td>I live nearby so I thought I'd try their wings...</td>\n",
       "    </tr>\n",
       "    <tr>\n",
       "      <th>4669</th>\n",
       "      <td>pKk7jCFIm96qDdk0laVT2w</td>\n",
       "      <td>A bunch of friends get together. Expect to spe...</td>\n",
       "    </tr>\n",
       "    <tr>\n",
       "      <th>5805</th>\n",
       "      <td>1uvcySLWM75MzlLM12F8dA</td>\n",
       "      <td>The international Cheese shop in Pennsylvania ...</td>\n",
       "    </tr>\n",
       "    <tr>\n",
       "      <th>5981</th>\n",
       "      <td>vtEwge-BXI5DHTwYKgK25Q</td>\n",
       "      <td>Latina provides a great mix of specialty impor...</td>\n",
       "    </tr>\n",
       "    <tr>\n",
       "      <th>5998</th>\n",
       "      <td>TkNhGEsi7BOXk7LzDpbHVg</td>\n",
       "      <td>Fou d'Ici is a new downtown épicerie made to h...</td>\n",
       "    </tr>\n",
       "    <tr>\n",
       "      <th>6019</th>\n",
       "      <td>3-6biVwm7VwPZ-k67jml-Q</td>\n",
       "      <td>What a perfect find for my Italian self!! My b...</td>\n",
       "    </tr>\n",
       "    <tr>\n",
       "      <th>6387</th>\n",
       "      <td>4HEF6BuO_BBsTmvcMCbhhg</td>\n",
       "      <td>Great wine selection! 32 different wine to cho...</td>\n",
       "    </tr>\n",
       "    <tr>\n",
       "      <th>6624</th>\n",
       "      <td>OMm3KPJkkbfq3SMXqhZ0uQ</td>\n",
       "      <td>Cheese steaks are pretty good,  but omg the sw...</td>\n",
       "    </tr>\n",
       "    <tr>\n",
       "      <th>6734</th>\n",
       "      <td>MngIoRvkDxrePOVZNg_06g</td>\n",
       "      <td>I received this catalog and thought this would...</td>\n",
       "    </tr>\n",
       "    <tr>\n",
       "      <th>6741</th>\n",
       "      <td>MlwsOef4hDJVHWOzutE6yw</td>\n",
       "      <td>We solely came to this place for the Tiramisu ...</td>\n",
       "    </tr>\n",
       "    <tr>\n",
       "      <th>6848</th>\n",
       "      <td>-QIQLK8RR6rl7v19cAQQHg</td>\n",
       "      <td>They didn't have the meat for the sandwich I o...</td>\n",
       "    </tr>\n",
       "    <tr>\n",
       "      <th>7005</th>\n",
       "      <td>mlqdbe7cC5xgg0KSSPyasA</td>\n",
       "      <td>There was a time when Penn Station subs were h...</td>\n",
       "    </tr>\n",
       "    <tr>\n",
       "      <th>7011</th>\n",
       "      <td>5R03yx9yR4VkK1L-Waj4Pw</td>\n",
       "      <td>There was a time when Penn Station subs were h...</td>\n",
       "    </tr>\n",
       "    <tr>\n",
       "      <th>7019</th>\n",
       "      <td>21fK0m8sQFbRQv3RlskE2w</td>\n",
       "      <td>I had lunch here and to be honest its the firs...</td>\n",
       "    </tr>\n",
       "    <tr>\n",
       "      <th>7131</th>\n",
       "      <td>I8DIq321Tkm-wi9z5gTv9A</td>\n",
       "      <td>We were pretty excited to see that we were get...</td>\n",
       "    </tr>\n",
       "    <tr>\n",
       "      <th>7394</th>\n",
       "      <td>iiuEt92eGGy_fTvywsTBbA</td>\n",
       "      <td>I NEVER leave bad reviews for places. I just d...</td>\n",
       "    </tr>\n",
       "    <tr>\n",
       "      <th>7513</th>\n",
       "      <td>GZifPY-KTnZQ9iYfGwT2wg</td>\n",
       "      <td>Awesome people and the owner super friendly. W...</td>\n",
       "    </tr>\n",
       "    <tr>\n",
       "      <th>...</th>\n",
       "      <td>...</td>\n",
       "      <td>...</td>\n",
       "    </tr>\n",
       "    <tr>\n",
       "      <th>18067</th>\n",
       "      <td>aPhxmyXOBKtxdv47EYkcHQ</td>\n",
       "      <td>Wanted to try this place for a while now. Fina...</td>\n",
       "    </tr>\n",
       "    <tr>\n",
       "      <th>18073</th>\n",
       "      <td>d2yEVlD-cGHj7p_cb7FqqQ</td>\n",
       "      <td>Food is always fresh and employees are always ...</td>\n",
       "    </tr>\n",
       "    <tr>\n",
       "      <th>18077</th>\n",
       "      <td>OvxbkxlD8FLjBGtNtYLbjw</td>\n",
       "      <td>Mmmmm stinky Cheese!  I love stinky cheese.  \\...</td>\n",
       "    </tr>\n",
       "    <tr>\n",
       "      <th>18086</th>\n",
       "      <td>EKI1r0iUMLu6dtsZ3xEa3g</td>\n",
       "      <td>Penn Station in Avon is finally OPEN!! *Happy ...</td>\n",
       "    </tr>\n",
       "    <tr>\n",
       "      <th>18090</th>\n",
       "      <td>80LCPTNO0LM_7Vg9nV9B7w</td>\n",
       "      <td>Un incontournable pour les amoureux du fromage...</td>\n",
       "    </tr>\n",
       "    <tr>\n",
       "      <th>18094</th>\n",
       "      <td>uKCCJB-OkAtLBunNFDIrxw</td>\n",
       "      <td>Horrible, horrible service. 7 subs took over a...</td>\n",
       "    </tr>\n",
       "    <tr>\n",
       "      <th>18098</th>\n",
       "      <td>53sfFpflCrVv-rb0HCVnjA</td>\n",
       "      <td>Depuis quelques mois et le changement de propr...</td>\n",
       "    </tr>\n",
       "    <tr>\n",
       "      <th>18102</th>\n",
       "      <td>e9wYr5tY35fPsVvHesmYXQ</td>\n",
       "      <td>Pretty affordable considering the prices in th...</td>\n",
       "    </tr>\n",
       "    <tr>\n",
       "      <th>18106</th>\n",
       "      <td>725JDJNs4lmn8a35PGliKA</td>\n",
       "      <td>Well-curated selection of cheese. Stay in for ...</td>\n",
       "    </tr>\n",
       "    <tr>\n",
       "      <th>18112</th>\n",
       "      <td>0bWa6gq8KST_Gopiy5klcA</td>\n",
       "      <td>A welcome addition to a somewhat industrial st...</td>\n",
       "    </tr>\n",
       "    <tr>\n",
       "      <th>18115</th>\n",
       "      <td>Kx-ENvzuh8HB-W_xbT5jrg</td>\n",
       "      <td>Bomb.com so juicy and fresh tasting, I absolut...</td>\n",
       "    </tr>\n",
       "    <tr>\n",
       "      <th>18118</th>\n",
       "      <td>EEtS_9nmiJwZwzXpvoR_-A</td>\n",
       "      <td>This used to be the hot spot for lunch time wh...</td>\n",
       "    </tr>\n",
       "    <tr>\n",
       "      <th>18122</th>\n",
       "      <td>Gho38SoO_9dq6hhT4Ll-5g</td>\n",
       "      <td>Finding a truly great cheesesteak in Glendale ...</td>\n",
       "    </tr>\n",
       "    <tr>\n",
       "      <th>18125</th>\n",
       "      <td>dt5yEGC8yy_V7FAC1AcWdw</td>\n",
       "      <td>Great spot to satisfy your craving for a Phill...</td>\n",
       "    </tr>\n",
       "    <tr>\n",
       "      <th>18128</th>\n",
       "      <td>SU3GvpWHKoqjz9VBuokN3Q</td>\n",
       "      <td>Don't be fooled by the name, this is more than...</td>\n",
       "    </tr>\n",
       "    <tr>\n",
       "      <th>18132</th>\n",
       "      <td>QnCWy07Vlp3F0rTruTTlfg</td>\n",
       "      <td>Love stopping by this cute little place on my ...</td>\n",
       "    </tr>\n",
       "    <tr>\n",
       "      <th>18136</th>\n",
       "      <td>bUQv1lL3ZvAcXOsXk7GehQ</td>\n",
       "      <td>I've been watching this place for a while now ...</td>\n",
       "    </tr>\n",
       "    <tr>\n",
       "      <th>18139</th>\n",
       "      <td>Rp4PlhfUazz3SFqB8-3w2w</td>\n",
       "      <td>Excellent service and even better meats. Dave ...</td>\n",
       "    </tr>\n",
       "    <tr>\n",
       "      <th>18144</th>\n",
       "      <td>2MxoDbw9-RtTBlQkFXAHmw</td>\n",
       "      <td>One of the best Mr hero's around.  Nice people...</td>\n",
       "    </tr>\n",
       "    <tr>\n",
       "      <th>18149</th>\n",
       "      <td>Iz8Mi3qXqRW2JMaLJTTlLQ</td>\n",
       "      <td>Just had my first lunch here.  I chose the avo...</td>\n",
       "    </tr>\n",
       "    <tr>\n",
       "      <th>18152</th>\n",
       "      <td>KXwCMad-UK2_Y5_LjAVjlA</td>\n",
       "      <td>Huge fan of the Philly! You must try the Rattl...</td>\n",
       "    </tr>\n",
       "    <tr>\n",
       "      <th>18156</th>\n",
       "      <td>irzQzlXJPhny2QtMa-94-Q</td>\n",
       "      <td>So excited to see you guys back on the old nei...</td>\n",
       "    </tr>\n",
       "    <tr>\n",
       "      <th>18159</th>\n",
       "      <td>VmIWtyejlvSOIDoBGztNag</td>\n",
       "      <td>Best new eatery and specialty foods shop in th...</td>\n",
       "    </tr>\n",
       "    <tr>\n",
       "      <th>18162</th>\n",
       "      <td>68s6PZRs6bQ9Nqtppdzpuw</td>\n",
       "      <td>I've never had a Philly Cheese Steak before an...</td>\n",
       "    </tr>\n",
       "    <tr>\n",
       "      <th>18165</th>\n",
       "      <td>ErcqmJQObybA8bA31xu1BA</td>\n",
       "      <td>Super knowledgeable and friendly staff. Great ...</td>\n",
       "    </tr>\n",
       "    <tr>\n",
       "      <th>18171</th>\n",
       "      <td>RFm8rCQqq3lw4gfdmXTk6Q</td>\n",
       "      <td>You rarely find a guy who cares about his busi...</td>\n",
       "    </tr>\n",
       "    <tr>\n",
       "      <th>18176</th>\n",
       "      <td>9io8AlKbVFrXfna7G7kMDA</td>\n",
       "      <td>I used to really enjoy this place, but theif s...</td>\n",
       "    </tr>\n",
       "    <tr>\n",
       "      <th>18180</th>\n",
       "      <td>i_WEjpxCUCngB6C5tYZB-A</td>\n",
       "      <td>The best kept secret of the east end. If you h...</td>\n",
       "    </tr>\n",
       "    <tr>\n",
       "      <th>18183</th>\n",
       "      <td>wcBxjK5CdOuVOQCRMfd6Hw</td>\n",
       "      <td>After a few write ups, I went and checked them...</td>\n",
       "    </tr>\n",
       "    <tr>\n",
       "      <th>18186</th>\n",
       "      <td>ujHyL38EI-OxAyN4_En3wA</td>\n",
       "      <td>This stuff is the best around and featured by ...</td>\n",
       "    </tr>\n",
       "  </tbody>\n",
       "</table>\n",
       "<p>381 rows × 2 columns</p>\n",
       "</div>"
      ],
      "text/plain": [
       "                  business_id  \\\n",
       "0      hIgGkG1JnHX4xmVuOgegDw   \n",
       "432    xkVMIk_Vqh17f48ZQ_6b0w   \n",
       "2630   DD4d-8-DjnnXBE7lJ6w92A   \n",
       "2674   IFaRfrlwhQo4gILB0wmA-g   \n",
       "2768   IOEGLxXwCNiq4P-U359D7Q   \n",
       "3228   lsxbnkAD5DZ4SuVPrFx39A   \n",
       "3236   p5PRvPUhJrA-QHhm5xOU7Q   \n",
       "3440   L9pTWWAATj7HoLaRe6ZA1Q   \n",
       "3831   sPwgafejYVdf8hd4-oDYVg   \n",
       "4050   LFOIMbdGcwEFsUVJKB6_Ng   \n",
       "4205   c2sDJFcMv-r5V1d85KUM-w   \n",
       "4254   ljLq8ZTLO52rzwsEeaWZKg   \n",
       "4424   Kq8v2R5g9cpQF7QRSlQOMw   \n",
       "4586   QyFciCaAJkniP506PP43ng   \n",
       "4669   pKk7jCFIm96qDdk0laVT2w   \n",
       "5805   1uvcySLWM75MzlLM12F8dA   \n",
       "5981   vtEwge-BXI5DHTwYKgK25Q   \n",
       "5998   TkNhGEsi7BOXk7LzDpbHVg   \n",
       "6019   3-6biVwm7VwPZ-k67jml-Q   \n",
       "6387   4HEF6BuO_BBsTmvcMCbhhg   \n",
       "6624   OMm3KPJkkbfq3SMXqhZ0uQ   \n",
       "6734   MngIoRvkDxrePOVZNg_06g   \n",
       "6741   MlwsOef4hDJVHWOzutE6yw   \n",
       "6848   -QIQLK8RR6rl7v19cAQQHg   \n",
       "7005   mlqdbe7cC5xgg0KSSPyasA   \n",
       "7011   5R03yx9yR4VkK1L-Waj4Pw   \n",
       "7019   21fK0m8sQFbRQv3RlskE2w   \n",
       "7131   I8DIq321Tkm-wi9z5gTv9A   \n",
       "7394   iiuEt92eGGy_fTvywsTBbA   \n",
       "7513   GZifPY-KTnZQ9iYfGwT2wg   \n",
       "...                       ...   \n",
       "18067  aPhxmyXOBKtxdv47EYkcHQ   \n",
       "18073  d2yEVlD-cGHj7p_cb7FqqQ   \n",
       "18077  OvxbkxlD8FLjBGtNtYLbjw   \n",
       "18086  EKI1r0iUMLu6dtsZ3xEa3g   \n",
       "18090  80LCPTNO0LM_7Vg9nV9B7w   \n",
       "18094  uKCCJB-OkAtLBunNFDIrxw   \n",
       "18098  53sfFpflCrVv-rb0HCVnjA   \n",
       "18102  e9wYr5tY35fPsVvHesmYXQ   \n",
       "18106  725JDJNs4lmn8a35PGliKA   \n",
       "18112  0bWa6gq8KST_Gopiy5klcA   \n",
       "18115  Kx-ENvzuh8HB-W_xbT5jrg   \n",
       "18118  EEtS_9nmiJwZwzXpvoR_-A   \n",
       "18122  Gho38SoO_9dq6hhT4Ll-5g   \n",
       "18125  dt5yEGC8yy_V7FAC1AcWdw   \n",
       "18128  SU3GvpWHKoqjz9VBuokN3Q   \n",
       "18132  QnCWy07Vlp3F0rTruTTlfg   \n",
       "18136  bUQv1lL3ZvAcXOsXk7GehQ   \n",
       "18139  Rp4PlhfUazz3SFqB8-3w2w   \n",
       "18144  2MxoDbw9-RtTBlQkFXAHmw   \n",
       "18149  Iz8Mi3qXqRW2JMaLJTTlLQ   \n",
       "18152  KXwCMad-UK2_Y5_LjAVjlA   \n",
       "18156  irzQzlXJPhny2QtMa-94-Q   \n",
       "18159  VmIWtyejlvSOIDoBGztNag   \n",
       "18162  68s6PZRs6bQ9Nqtppdzpuw   \n",
       "18165  ErcqmJQObybA8bA31xu1BA   \n",
       "18171  RFm8rCQqq3lw4gfdmXTk6Q   \n",
       "18176  9io8AlKbVFrXfna7G7kMDA   \n",
       "18180  i_WEjpxCUCngB6C5tYZB-A   \n",
       "18183  wcBxjK5CdOuVOQCRMfd6Hw   \n",
       "18186  ujHyL38EI-OxAyN4_En3wA   \n",
       "\n",
       "                                                    text  \n",
       "0      This place has 2 sandwiches cheese steak and c...  \n",
       "432    I had high hopes for Craftsteak, and it defini...  \n",
       "2630   Ok so this place is no good in my opinion, wou...  \n",
       "2674   Very good food!  (I've eaten almost everything...  \n",
       "2768   Pizza is so subjective, but this is my favorit...  \n",
       "3228   Living in the Junction and relying on transit ...  \n",
       "3236   This is my happy place!  Discovered it about 3...  \n",
       "3440   Great food and the service was outstanding! \\n...  \n",
       "3831   By far my favorite wing place. Don't let the s...  \n",
       "4050   My son who is 11 just tried the gluten free pi...  \n",
       "4205   the best place on earth. despite being pretty ...  \n",
       "4254   Great little place, kids favorite! The cheeses...  \n",
       "4424   So, a friend told me I should try the Veggie B...  \n",
       "4586   I live nearby so I thought I'd try their wings...  \n",
       "4669   A bunch of friends get together. Expect to spe...  \n",
       "5805   The international Cheese shop in Pennsylvania ...  \n",
       "5981   Latina provides a great mix of specialty impor...  \n",
       "5998   Fou d'Ici is a new downtown épicerie made to h...  \n",
       "6019   What a perfect find for my Italian self!! My b...  \n",
       "6387   Great wine selection! 32 different wine to cho...  \n",
       "6624   Cheese steaks are pretty good,  but omg the sw...  \n",
       "6734   I received this catalog and thought this would...  \n",
       "6741   We solely came to this place for the Tiramisu ...  \n",
       "6848   They didn't have the meat for the sandwich I o...  \n",
       "7005   There was a time when Penn Station subs were h...  \n",
       "7011   There was a time when Penn Station subs were h...  \n",
       "7019   I had lunch here and to be honest its the firs...  \n",
       "7131   We were pretty excited to see that we were get...  \n",
       "7394   I NEVER leave bad reviews for places. I just d...  \n",
       "7513   Awesome people and the owner super friendly. W...  \n",
       "...                                                  ...  \n",
       "18067  Wanted to try this place for a while now. Fina...  \n",
       "18073  Food is always fresh and employees are always ...  \n",
       "18077  Mmmmm stinky Cheese!  I love stinky cheese.  \\...  \n",
       "18086  Penn Station in Avon is finally OPEN!! *Happy ...  \n",
       "18090  Un incontournable pour les amoureux du fromage...  \n",
       "18094  Horrible, horrible service. 7 subs took over a...  \n",
       "18098  Depuis quelques mois et le changement de propr...  \n",
       "18102  Pretty affordable considering the prices in th...  \n",
       "18106  Well-curated selection of cheese. Stay in for ...  \n",
       "18112  A welcome addition to a somewhat industrial st...  \n",
       "18115  Bomb.com so juicy and fresh tasting, I absolut...  \n",
       "18118  This used to be the hot spot for lunch time wh...  \n",
       "18122  Finding a truly great cheesesteak in Glendale ...  \n",
       "18125  Great spot to satisfy your craving for a Phill...  \n",
       "18128  Don't be fooled by the name, this is more than...  \n",
       "18132  Love stopping by this cute little place on my ...  \n",
       "18136  I've been watching this place for a while now ...  \n",
       "18139  Excellent service and even better meats. Dave ...  \n",
       "18144  One of the best Mr hero's around.  Nice people...  \n",
       "18149  Just had my first lunch here.  I chose the avo...  \n",
       "18152  Huge fan of the Philly! You must try the Rattl...  \n",
       "18156  So excited to see you guys back on the old nei...  \n",
       "18159  Best new eatery and specialty foods shop in th...  \n",
       "18162  I've never had a Philly Cheese Steak before an...  \n",
       "18165  Super knowledgeable and friendly staff. Great ...  \n",
       "18171  You rarely find a guy who cares about his busi...  \n",
       "18176  I used to really enjoy this place, but theif s...  \n",
       "18180  The best kept secret of the east end. If you h...  \n",
       "18183  After a few write ups, I went and checked them...  \n",
       "18186  This stuff is the best around and featured by ...  \n",
       "\n",
       "[381 rows x 2 columns]"
      ]
     },
     "execution_count": 374,
     "metadata": {},
     "output_type": "execute_result"
    }
   ],
   "source": [
    "concate_review_df"
   ]
  },
  {
   "cell_type": "code",
   "execution_count": 370,
   "metadata": {},
   "outputs": [
    {
     "data": {
      "text/html": [
       "<div>\n",
       "<style scoped>\n",
       "    .dataframe tbody tr th:only-of-type {\n",
       "        vertical-align: middle;\n",
       "    }\n",
       "\n",
       "    .dataframe tbody tr th {\n",
       "        vertical-align: top;\n",
       "    }\n",
       "\n",
       "    .dataframe thead th {\n",
       "        text-align: right;\n",
       "    }\n",
       "</style>\n",
       "<table border=\"1\" class=\"dataframe\">\n",
       "  <thead>\n",
       "    <tr style=\"text-align: right;\">\n",
       "      <th></th>\n",
       "      <th>review_id</th>\n",
       "      <th>business_id</th>\n",
       "      <th>stars</th>\n",
       "      <th>date</th>\n",
       "      <th>text</th>\n",
       "      <th>catergory</th>\n",
       "    </tr>\n",
       "  </thead>\n",
       "  <tbody>\n",
       "    <tr>\n",
       "      <th>0</th>\n",
       "      <td>S95ZsFVPVVCbKgDz1zSIVA</td>\n",
       "      <td>hIgGkG1JnHX4xmVuOgegDw</td>\n",
       "      <td>4</td>\n",
       "      <td>2015-08-29</td>\n",
       "      <td>This place has 2 sandwiches cheese steak and c...</td>\n",
       "      <td>Food, Desserts, Sandwiches, Restaurants, Chees...</td>\n",
       "    </tr>\n",
       "    <tr>\n",
       "      <th>1</th>\n",
       "      <td>O_z9uNsAHbmLvn3OWFsDJA</td>\n",
       "      <td>hIgGkG1JnHX4xmVuOgegDw</td>\n",
       "      <td>5</td>\n",
       "      <td>2011-12-28</td>\n",
       "      <td>First of all, the service was awesome.  I will...</td>\n",
       "      <td>Food, Desserts, Sandwiches, Restaurants, Chees...</td>\n",
       "    </tr>\n",
       "    <tr>\n",
       "      <th>2</th>\n",
       "      <td>-7GQn_YYzdk-OnCiy7AJUA</td>\n",
       "      <td>hIgGkG1JnHX4xmVuOgegDw</td>\n",
       "      <td>3</td>\n",
       "      <td>2013-04-10</td>\n",
       "      <td>Woah, some good phillys up in here! Pretty sim...</td>\n",
       "      <td>Food, Desserts, Sandwiches, Restaurants, Chees...</td>\n",
       "    </tr>\n",
       "    <tr>\n",
       "      <th>3</th>\n",
       "      <td>0iQyrEPPCjKeC-8y14nMEg</td>\n",
       "      <td>hIgGkG1JnHX4xmVuOgegDw</td>\n",
       "      <td>5</td>\n",
       "      <td>2016-01-17</td>\n",
       "      <td>Hands down the best philly cheesesteak I've ha...</td>\n",
       "      <td>Food, Desserts, Sandwiches, Restaurants, Chees...</td>\n",
       "    </tr>\n",
       "    <tr>\n",
       "      <th>4</th>\n",
       "      <td>pVCzG1f09NEkqQCIT5dEPQ</td>\n",
       "      <td>hIgGkG1JnHX4xmVuOgegDw</td>\n",
       "      <td>5</td>\n",
       "      <td>2016-12-10</td>\n",
       "      <td>Got the regular size steak with Wiz, onions an...</td>\n",
       "      <td>Food, Desserts, Sandwiches, Restaurants, Chees...</td>\n",
       "    </tr>\n",
       "    <tr>\n",
       "      <th>5</th>\n",
       "      <td>ZwCkLvWT9_xjfhFMnk1Vsw</td>\n",
       "      <td>hIgGkG1JnHX4xmVuOgegDw</td>\n",
       "      <td>5</td>\n",
       "      <td>2010-03-31</td>\n",
       "      <td>If you aren't getting your Cheesesteaks at For...</td>\n",
       "      <td>Food, Desserts, Sandwiches, Restaurants, Chees...</td>\n",
       "    </tr>\n",
       "    <tr>\n",
       "      <th>6</th>\n",
       "      <td>bdSmc24s3R6QwFAI1Qs13w</td>\n",
       "      <td>hIgGkG1JnHX4xmVuOgegDw</td>\n",
       "      <td>4</td>\n",
       "      <td>2013-01-25</td>\n",
       "      <td>They ruined my taste for my previous favorite ...</td>\n",
       "      <td>Food, Desserts, Sandwiches, Restaurants, Chees...</td>\n",
       "    </tr>\n",
       "    <tr>\n",
       "      <th>7</th>\n",
       "      <td>Tc9o__x17P5mKIuKwf48JQ</td>\n",
       "      <td>hIgGkG1JnHX4xmVuOgegDw</td>\n",
       "      <td>4</td>\n",
       "      <td>2013-11-15</td>\n",
       "      <td>When looking for a good cheese steak its all a...</td>\n",
       "      <td>Food, Desserts, Sandwiches, Restaurants, Chees...</td>\n",
       "    </tr>\n",
       "    <tr>\n",
       "      <th>8</th>\n",
       "      <td>l21zg43xmA5ANINNRq_FXQ</td>\n",
       "      <td>hIgGkG1JnHX4xmVuOgegDw</td>\n",
       "      <td>2</td>\n",
       "      <td>2011-07-08</td>\n",
       "      <td>\"Gourmet\"  is used loosely here.  If your meat...</td>\n",
       "      <td>Food, Desserts, Sandwiches, Restaurants, Chees...</td>\n",
       "    </tr>\n",
       "    <tr>\n",
       "      <th>9</th>\n",
       "      <td>7xZdQVNfGUyw5Vsc3sdx2A</td>\n",
       "      <td>hIgGkG1JnHX4xmVuOgegDw</td>\n",
       "      <td>5</td>\n",
       "      <td>2015-03-16</td>\n",
       "      <td>Awesome cheesesteak. Friendly staff and I love...</td>\n",
       "      <td>Food, Desserts, Sandwiches, Restaurants, Chees...</td>\n",
       "    </tr>\n",
       "    <tr>\n",
       "      <th>10</th>\n",
       "      <td>6_aXR3iSxHTF1TbXdXeGvg</td>\n",
       "      <td>hIgGkG1JnHX4xmVuOgegDw</td>\n",
       "      <td>5</td>\n",
       "      <td>2010-08-25</td>\n",
       "      <td>I work about a 1/2 mile from this awesome plac...</td>\n",
       "      <td>Food, Desserts, Sandwiches, Restaurants, Chees...</td>\n",
       "    </tr>\n",
       "    <tr>\n",
       "      <th>11</th>\n",
       "      <td>Xb7n4_KQkMAWAVW7vqn1og</td>\n",
       "      <td>hIgGkG1JnHX4xmVuOgegDw</td>\n",
       "      <td>5</td>\n",
       "      <td>2008-09-29</td>\n",
       "      <td>If you like steak &amp; cheese subs, Forefather's ...</td>\n",
       "      <td>Food, Desserts, Sandwiches, Restaurants, Chees...</td>\n",
       "    </tr>\n",
       "    <tr>\n",
       "      <th>12</th>\n",
       "      <td>_td62GYiA8d0Hdz35KfJ6A</td>\n",
       "      <td>hIgGkG1JnHX4xmVuOgegDw</td>\n",
       "      <td>5</td>\n",
       "      <td>2011-10-11</td>\n",
       "      <td>I've been to pats, ginos, and jims in Philly a...</td>\n",
       "      <td>Food, Desserts, Sandwiches, Restaurants, Chees...</td>\n",
       "    </tr>\n",
       "    <tr>\n",
       "      <th>13</th>\n",
       "      <td>XOum0Ppd8lQJfCGUHbnH5w</td>\n",
       "      <td>hIgGkG1JnHX4xmVuOgegDw</td>\n",
       "      <td>4</td>\n",
       "      <td>2011-12-02</td>\n",
       "      <td>I recently went to Forefathers for dinner last...</td>\n",
       "      <td>Food, Desserts, Sandwiches, Restaurants, Chees...</td>\n",
       "    </tr>\n",
       "    <tr>\n",
       "      <th>14</th>\n",
       "      <td>dXRWLz_m_b3qBCVz2pTPdg</td>\n",
       "      <td>hIgGkG1JnHX4xmVuOgegDw</td>\n",
       "      <td>3</td>\n",
       "      <td>2015-06-20</td>\n",
       "      <td>Good cheese steaks!  I nearly skipped the didn...</td>\n",
       "      <td>Food, Desserts, Sandwiches, Restaurants, Chees...</td>\n",
       "    </tr>\n",
       "    <tr>\n",
       "      <th>15</th>\n",
       "      <td>wPO8yRgI3nWa7a-G_l879w</td>\n",
       "      <td>hIgGkG1JnHX4xmVuOgegDw</td>\n",
       "      <td>5</td>\n",
       "      <td>2015-08-07</td>\n",
       "      <td>Absolutely worth a try! I haven't been to Phil...</td>\n",
       "      <td>Food, Desserts, Sandwiches, Restaurants, Chees...</td>\n",
       "    </tr>\n",
       "    <tr>\n",
       "      <th>16</th>\n",
       "      <td>GFW9siXJ4Ho0c0KYzTZFrw</td>\n",
       "      <td>hIgGkG1JnHX4xmVuOgegDw</td>\n",
       "      <td>5</td>\n",
       "      <td>2017-04-29</td>\n",
       "      <td>I had the pleasure of running into the food tr...</td>\n",
       "      <td>Food, Desserts, Sandwiches, Restaurants, Chees...</td>\n",
       "    </tr>\n",
       "    <tr>\n",
       "      <th>17</th>\n",
       "      <td>phkLsITd9KAxGjjRvvfaPQ</td>\n",
       "      <td>hIgGkG1JnHX4xmVuOgegDw</td>\n",
       "      <td>5</td>\n",
       "      <td>2011-05-06</td>\n",
       "      <td>Great cheesesteaks and the fry sauce is so goo...</td>\n",
       "      <td>Food, Desserts, Sandwiches, Restaurants, Chees...</td>\n",
       "    </tr>\n",
       "    <tr>\n",
       "      <th>18</th>\n",
       "      <td>pj9tygRlLqnNotUA1K0b8Q</td>\n",
       "      <td>hIgGkG1JnHX4xmVuOgegDw</td>\n",
       "      <td>5</td>\n",
       "      <td>2013-03-22</td>\n",
       "      <td>AMAZING!!!!!!!!!!\\n \\nThey have delicious food...</td>\n",
       "      <td>Food, Desserts, Sandwiches, Restaurants, Chees...</td>\n",
       "    </tr>\n",
       "    <tr>\n",
       "      <th>19</th>\n",
       "      <td>sO5kLn7gpkSv_ODVs9mb7g</td>\n",
       "      <td>hIgGkG1JnHX4xmVuOgegDw</td>\n",
       "      <td>5</td>\n",
       "      <td>2011-02-01</td>\n",
       "      <td>I always get the number 1 and its always spot ...</td>\n",
       "      <td>Food, Desserts, Sandwiches, Restaurants, Chees...</td>\n",
       "    </tr>\n",
       "    <tr>\n",
       "      <th>20</th>\n",
       "      <td>tCYrajNrcCQ7EHb65WpPZw</td>\n",
       "      <td>hIgGkG1JnHX4xmVuOgegDw</td>\n",
       "      <td>5</td>\n",
       "      <td>2017-11-11</td>\n",
       "      <td>This is the best place for a cheese steak. My ...</td>\n",
       "      <td>Food, Desserts, Sandwiches, Restaurants, Chees...</td>\n",
       "    </tr>\n",
       "    <tr>\n",
       "      <th>21</th>\n",
       "      <td>I_xOvbriND7ECWL86UpRlw</td>\n",
       "      <td>hIgGkG1JnHX4xmVuOgegDw</td>\n",
       "      <td>5</td>\n",
       "      <td>2011-07-25</td>\n",
       "      <td>Everything was authentic and really tasty.  Th...</td>\n",
       "      <td>Food, Desserts, Sandwiches, Restaurants, Chees...</td>\n",
       "    </tr>\n",
       "    <tr>\n",
       "      <th>22</th>\n",
       "      <td>zUK0xQtLCN1DZEsC_NdB0g</td>\n",
       "      <td>hIgGkG1JnHX4xmVuOgegDw</td>\n",
       "      <td>5</td>\n",
       "      <td>2010-01-22</td>\n",
       "      <td>Love cheesesteaks? Love sweet potato fries? Th...</td>\n",
       "      <td>Food, Desserts, Sandwiches, Restaurants, Chees...</td>\n",
       "    </tr>\n",
       "    <tr>\n",
       "      <th>23</th>\n",
       "      <td>qjarV5eFwJ538w8HAjNaZg</td>\n",
       "      <td>hIgGkG1JnHX4xmVuOgegDw</td>\n",
       "      <td>4</td>\n",
       "      <td>2010-07-11</td>\n",
       "      <td>As a fan of cheesesteaks, this place has a ver...</td>\n",
       "      <td>Food, Desserts, Sandwiches, Restaurants, Chees...</td>\n",
       "    </tr>\n",
       "    <tr>\n",
       "      <th>24</th>\n",
       "      <td>QObdWCFnwBZBPRvI4xE3vQ</td>\n",
       "      <td>hIgGkG1JnHX4xmVuOgegDw</td>\n",
       "      <td>4</td>\n",
       "      <td>2010-12-30</td>\n",
       "      <td>We stopped at Forefathers for lunch after a hi...</td>\n",
       "      <td>Food, Desserts, Sandwiches, Restaurants, Chees...</td>\n",
       "    </tr>\n",
       "    <tr>\n",
       "      <th>25</th>\n",
       "      <td>jpjBVJKGUTQPZ-LnzWCORQ</td>\n",
       "      <td>hIgGkG1JnHX4xmVuOgegDw</td>\n",
       "      <td>4</td>\n",
       "      <td>2014-08-16</td>\n",
       "      <td>When you are visiting IKEA in Tempe and are no...</td>\n",
       "      <td>Food, Desserts, Sandwiches, Restaurants, Chees...</td>\n",
       "    </tr>\n",
       "    <tr>\n",
       "      <th>26</th>\n",
       "      <td>9sJZhgqvLt4NFNqZojtfUA</td>\n",
       "      <td>hIgGkG1JnHX4xmVuOgegDw</td>\n",
       "      <td>4</td>\n",
       "      <td>2017-02-26</td>\n",
       "      <td>This is as close as you can get to a Philly ch...</td>\n",
       "      <td>Food, Desserts, Sandwiches, Restaurants, Chees...</td>\n",
       "    </tr>\n",
       "    <tr>\n",
       "      <th>27</th>\n",
       "      <td>74kphq85ODKnWkOEskdPyA</td>\n",
       "      <td>hIgGkG1JnHX4xmVuOgegDw</td>\n",
       "      <td>4</td>\n",
       "      <td>2011-04-23</td>\n",
       "      <td>This was very  yummy. Sweet potato fries were ...</td>\n",
       "      <td>Food, Desserts, Sandwiches, Restaurants, Chees...</td>\n",
       "    </tr>\n",
       "    <tr>\n",
       "      <th>28</th>\n",
       "      <td>ZDE1s9OFxO9i47yXNnAKVg</td>\n",
       "      <td>hIgGkG1JnHX4xmVuOgegDw</td>\n",
       "      <td>3</td>\n",
       "      <td>2010-12-08</td>\n",
       "      <td>Simply an eh!  I can't get over calling this p...</td>\n",
       "      <td>Food, Desserts, Sandwiches, Restaurants, Chees...</td>\n",
       "    </tr>\n",
       "    <tr>\n",
       "      <th>29</th>\n",
       "      <td>gMS6M1V0Xij3M_CUYWDAGA</td>\n",
       "      <td>hIgGkG1JnHX4xmVuOgegDw</td>\n",
       "      <td>4</td>\n",
       "      <td>2015-12-20</td>\n",
       "      <td>Outstanding, except for the bread, this the cl...</td>\n",
       "      <td>Food, Desserts, Sandwiches, Restaurants, Chees...</td>\n",
       "    </tr>\n",
       "    <tr>\n",
       "      <th>...</th>\n",
       "      <td>...</td>\n",
       "      <td>...</td>\n",
       "      <td>...</td>\n",
       "      <td>...</td>\n",
       "      <td>...</td>\n",
       "      <td>...</td>\n",
       "    </tr>\n",
       "    <tr>\n",
       "      <th>18159</th>\n",
       "      <td>-zQq1nGZAuoNuH_AaVVycg</td>\n",
       "      <td>VmIWtyejlvSOIDoBGztNag</td>\n",
       "      <td>5</td>\n",
       "      <td>2017-11-29</td>\n",
       "      <td>Best new eatery and specialty foods shop in th...</td>\n",
       "      <td>Pasta Shops, Specialty Food, Food, Cheese Shops</td>\n",
       "    </tr>\n",
       "    <tr>\n",
       "      <th>18160</th>\n",
       "      <td>7tPYswCefe9jVMePBGVVrw</td>\n",
       "      <td>VmIWtyejlvSOIDoBGztNag</td>\n",
       "      <td>4</td>\n",
       "      <td>2018-04-21</td>\n",
       "      <td>I love simple Italian food and I have to say t...</td>\n",
       "      <td>Pasta Shops, Specialty Food, Food, Cheese Shops</td>\n",
       "    </tr>\n",
       "    <tr>\n",
       "      <th>18161</th>\n",
       "      <td>WJOzGdCrsmYHtpxzce-ACQ</td>\n",
       "      <td>VmIWtyejlvSOIDoBGztNag</td>\n",
       "      <td>5</td>\n",
       "      <td>2018-03-10</td>\n",
       "      <td>Sauce on eggplant is to die for!!!!  You can b...</td>\n",
       "      <td>Pasta Shops, Specialty Food, Food, Cheese Shops</td>\n",
       "    </tr>\n",
       "    <tr>\n",
       "      <th>18162</th>\n",
       "      <td>_B1JGK8YCzZYPd9EWM7bKw</td>\n",
       "      <td>68s6PZRs6bQ9Nqtppdzpuw</td>\n",
       "      <td>3</td>\n",
       "      <td>2015-09-13</td>\n",
       "      <td>I've never had a Philly Cheese Steak before an...</td>\n",
       "      <td>Delis, Sandwiches, Restaurants, Cheesesteaks</td>\n",
       "    </tr>\n",
       "    <tr>\n",
       "      <th>18163</th>\n",
       "      <td>jy8TWZZ2nEIc3Vw9tYZoWA</td>\n",
       "      <td>68s6PZRs6bQ9Nqtppdzpuw</td>\n",
       "      <td>4</td>\n",
       "      <td>2018-03-15</td>\n",
       "      <td>I was a visitor at this mall last week for a n...</td>\n",
       "      <td>Delis, Sandwiches, Restaurants, Cheesesteaks</td>\n",
       "    </tr>\n",
       "    <tr>\n",
       "      <th>18164</th>\n",
       "      <td>MR9YjCTXMsl-mTObna1OqA</td>\n",
       "      <td>68s6PZRs6bQ9Nqtppdzpuw</td>\n",
       "      <td>2</td>\n",
       "      <td>2017-09-28</td>\n",
       "      <td>I was excited to try these cheesesteaks so I s...</td>\n",
       "      <td>Delis, Sandwiches, Restaurants, Cheesesteaks</td>\n",
       "    </tr>\n",
       "    <tr>\n",
       "      <th>18165</th>\n",
       "      <td>ZXzlYicbbOXUKs8GX1l5PQ</td>\n",
       "      <td>ErcqmJQObybA8bA31xu1BA</td>\n",
       "      <td>5</td>\n",
       "      <td>2018-05-31</td>\n",
       "      <td>Super knowledgeable and friendly staff. Great ...</td>\n",
       "      <td>Food, Specialty Food, Cheese Shops</td>\n",
       "    </tr>\n",
       "    <tr>\n",
       "      <th>18166</th>\n",
       "      <td>A-NuXj9clzrcxmR8MmNOYw</td>\n",
       "      <td>ErcqmJQObybA8bA31xu1BA</td>\n",
       "      <td>5</td>\n",
       "      <td>2018-03-25</td>\n",
       "      <td>Excellent service and cheese selection. A welc...</td>\n",
       "      <td>Food, Specialty Food, Cheese Shops</td>\n",
       "    </tr>\n",
       "    <tr>\n",
       "      <th>18167</th>\n",
       "      <td>11VQB3kkCoJGzIXINxXQJg</td>\n",
       "      <td>ErcqmJQObybA8bA31xu1BA</td>\n",
       "      <td>5</td>\n",
       "      <td>2018-04-07</td>\n",
       "      <td>Amazing cheese selection. Delicious sandwiches...</td>\n",
       "      <td>Food, Specialty Food, Cheese Shops</td>\n",
       "    </tr>\n",
       "    <tr>\n",
       "      <th>18168</th>\n",
       "      <td>74aQcP7X5SpB4yrKJbrDtg</td>\n",
       "      <td>ErcqmJQObybA8bA31xu1BA</td>\n",
       "      <td>5</td>\n",
       "      <td>2018-03-24</td>\n",
       "      <td>This specialty cheese shop has a great, divers...</td>\n",
       "      <td>Food, Specialty Food, Cheese Shops</td>\n",
       "    </tr>\n",
       "    <tr>\n",
       "      <th>18169</th>\n",
       "      <td>QRBL1I58TjKftAyuETOJFw</td>\n",
       "      <td>ErcqmJQObybA8bA31xu1BA</td>\n",
       "      <td>5</td>\n",
       "      <td>2018-06-27</td>\n",
       "      <td>I wish I could give six stars.\\n\\nThis place i...</td>\n",
       "      <td>Food, Specialty Food, Cheese Shops</td>\n",
       "    </tr>\n",
       "    <tr>\n",
       "      <th>18170</th>\n",
       "      <td>shupgEdpdeEBFCMQtsPM_w</td>\n",
       "      <td>ErcqmJQObybA8bA31xu1BA</td>\n",
       "      <td>5</td>\n",
       "      <td>2018-06-27</td>\n",
       "      <td>If I could use one word to describe this place...</td>\n",
       "      <td>Food, Specialty Food, Cheese Shops</td>\n",
       "    </tr>\n",
       "    <tr>\n",
       "      <th>18171</th>\n",
       "      <td>XZtDcSQ9eLjumb4DjiayEQ</td>\n",
       "      <td>RFm8rCQqq3lw4gfdmXTk6Q</td>\n",
       "      <td>5</td>\n",
       "      <td>2016-01-14</td>\n",
       "      <td>You rarely find a guy who cares about his busi...</td>\n",
       "      <td>Meat Shops, Farmers Market, Fruits &amp; Veggies, ...</td>\n",
       "    </tr>\n",
       "    <tr>\n",
       "      <th>18172</th>\n",
       "      <td>rqE22ll5eVlPT7KPGOFZzw</td>\n",
       "      <td>RFm8rCQqq3lw4gfdmXTk6Q</td>\n",
       "      <td>4</td>\n",
       "      <td>2017-09-11</td>\n",
       "      <td>Really enjoy this market which is inside the Y...</td>\n",
       "      <td>Meat Shops, Farmers Market, Fruits &amp; Veggies, ...</td>\n",
       "    </tr>\n",
       "    <tr>\n",
       "      <th>18173</th>\n",
       "      <td>Oq5z381tXXH7LtrPkTSTTw</td>\n",
       "      <td>RFm8rCQqq3lw4gfdmXTk6Q</td>\n",
       "      <td>1</td>\n",
       "      <td>2016-12-31</td>\n",
       "      <td>Did not appreciate being upcharged for ground ...</td>\n",
       "      <td>Meat Shops, Farmers Market, Fruits &amp; Veggies, ...</td>\n",
       "    </tr>\n",
       "    <tr>\n",
       "      <th>18174</th>\n",
       "      <td>ccy7mS0Fq37wWY5nMcUM4Q</td>\n",
       "      <td>RFm8rCQqq3lw4gfdmXTk6Q</td>\n",
       "      <td>4</td>\n",
       "      <td>2016-09-05</td>\n",
       "      <td>I've patronized Reesor's many times but for on...</td>\n",
       "      <td>Meat Shops, Farmers Market, Fruits &amp; Veggies, ...</td>\n",
       "    </tr>\n",
       "    <tr>\n",
       "      <th>18175</th>\n",
       "      <td>xgxKzmEeT7Pf2SgSKYUsXw</td>\n",
       "      <td>RFm8rCQqq3lw4gfdmXTk6Q</td>\n",
       "      <td>3</td>\n",
       "      <td>2012-03-17</td>\n",
       "      <td>Reesors Thornhill Market takes up almost 1/4 o...</td>\n",
       "      <td>Meat Shops, Farmers Market, Fruits &amp; Veggies, ...</td>\n",
       "    </tr>\n",
       "    <tr>\n",
       "      <th>18176</th>\n",
       "      <td>HXpaicN23bFlIP-mLjbvmQ</td>\n",
       "      <td>9io8AlKbVFrXfna7G7kMDA</td>\n",
       "      <td>1</td>\n",
       "      <td>2015-05-17</td>\n",
       "      <td>I used to really enjoy this place, but theif s...</td>\n",
       "      <td>Cheese Shops, Specialty Food, Food</td>\n",
       "    </tr>\n",
       "    <tr>\n",
       "      <th>18177</th>\n",
       "      <td>nLNqZGxNujOxV5vnwjXm5A</td>\n",
       "      <td>9io8AlKbVFrXfna7G7kMDA</td>\n",
       "      <td>5</td>\n",
       "      <td>2016-08-07</td>\n",
       "      <td>Have been going there since I was a little gir...</td>\n",
       "      <td>Cheese Shops, Specialty Food, Food</td>\n",
       "    </tr>\n",
       "    <tr>\n",
       "      <th>18178</th>\n",
       "      <td>DKV2PUl6dH-B-z-CEbQJiw</td>\n",
       "      <td>9io8AlKbVFrXfna7G7kMDA</td>\n",
       "      <td>3</td>\n",
       "      <td>2016-12-27</td>\n",
       "      <td>I ordered a veal sandwich from grande cheese. ...</td>\n",
       "      <td>Cheese Shops, Specialty Food, Food</td>\n",
       "    </tr>\n",
       "    <tr>\n",
       "      <th>18179</th>\n",
       "      <td>CwdboSKvNjoFLQl2v3ysEg</td>\n",
       "      <td>9io8AlKbVFrXfna7G7kMDA</td>\n",
       "      <td>3</td>\n",
       "      <td>2012-04-04</td>\n",
       "      <td>Oh so \"Smelly\" Cheese! \\n\\nInhale and Exhale f...</td>\n",
       "      <td>Cheese Shops, Specialty Food, Food</td>\n",
       "    </tr>\n",
       "    <tr>\n",
       "      <th>18180</th>\n",
       "      <td>Y72ZKYQzbatNSq90cJg7ZQ</td>\n",
       "      <td>i_WEjpxCUCngB6C5tYZB-A</td>\n",
       "      <td>5</td>\n",
       "      <td>2018-04-09</td>\n",
       "      <td>The best kept secret of the east end. If you h...</td>\n",
       "      <td>Delis, Sandwiches, Restaurants, Food, Cheese S...</td>\n",
       "    </tr>\n",
       "    <tr>\n",
       "      <th>18181</th>\n",
       "      <td>iM3tusk7R-KLUHtgSJgxkA</td>\n",
       "      <td>i_WEjpxCUCngB6C5tYZB-A</td>\n",
       "      <td>4</td>\n",
       "      <td>2016-10-21</td>\n",
       "      <td>I was invited for dinner at La Grotte Des From...</td>\n",
       "      <td>Delis, Sandwiches, Restaurants, Food, Cheese S...</td>\n",
       "    </tr>\n",
       "    <tr>\n",
       "      <th>18182</th>\n",
       "      <td>05awRk1IrbN6ZE1k8Ydr0A</td>\n",
       "      <td>i_WEjpxCUCngB6C5tYZB-A</td>\n",
       "      <td>4</td>\n",
       "      <td>2017-12-30</td>\n",
       "      <td>Probably one of the cities best \"Bring Your Ow...</td>\n",
       "      <td>Delis, Sandwiches, Restaurants, Food, Cheese S...</td>\n",
       "    </tr>\n",
       "    <tr>\n",
       "      <th>18183</th>\n",
       "      <td>ZzPbSq1dkiKt5Kldp5S53g</td>\n",
       "      <td>wcBxjK5CdOuVOQCRMfd6Hw</td>\n",
       "      <td>2</td>\n",
       "      <td>2011-09-26</td>\n",
       "      <td>After a few write ups, I went and checked them...</td>\n",
       "      <td>Restaurants, Cheesesteaks</td>\n",
       "    </tr>\n",
       "    <tr>\n",
       "      <th>18184</th>\n",
       "      <td>qvo0yeUWOfJTEmni-rRRpA</td>\n",
       "      <td>wcBxjK5CdOuVOQCRMfd6Hw</td>\n",
       "      <td>3</td>\n",
       "      <td>2011-07-09</td>\n",
       "      <td>Tried this one based on a comment from the Yel...</td>\n",
       "      <td>Restaurants, Cheesesteaks</td>\n",
       "    </tr>\n",
       "    <tr>\n",
       "      <th>18185</th>\n",
       "      <td>Mxr11mFZVSESYO9_ii2NPA</td>\n",
       "      <td>wcBxjK5CdOuVOQCRMfd6Hw</td>\n",
       "      <td>4</td>\n",
       "      <td>2011-04-06</td>\n",
       "      <td>I can say this is the best place to get a chee...</td>\n",
       "      <td>Restaurants, Cheesesteaks</td>\n",
       "    </tr>\n",
       "    <tr>\n",
       "      <th>18186</th>\n",
       "      <td>WnOpIgc4rDetTrwkO-J2TQ</td>\n",
       "      <td>ujHyL38EI-OxAyN4_En3wA</td>\n",
       "      <td>5</td>\n",
       "      <td>2011-09-10</td>\n",
       "      <td>This stuff is the best around and featured by ...</td>\n",
       "      <td>Cheese Shops, Food, Specialty Food</td>\n",
       "    </tr>\n",
       "    <tr>\n",
       "      <th>18187</th>\n",
       "      <td>XKUYZeUG76JruO8xzRxvLA</td>\n",
       "      <td>ujHyL38EI-OxAyN4_En3wA</td>\n",
       "      <td>5</td>\n",
       "      <td>2010-10-11</td>\n",
       "      <td>I can't  believe no one has written a review o...</td>\n",
       "      <td>Cheese Shops, Food, Specialty Food</td>\n",
       "    </tr>\n",
       "    <tr>\n",
       "      <th>18188</th>\n",
       "      <td>ZhICvAezzTLGEjSsxgl2tQ</td>\n",
       "      <td>ujHyL38EI-OxAyN4_En3wA</td>\n",
       "      <td>5</td>\n",
       "      <td>2013-11-14</td>\n",
       "      <td>THEIR GOAT CHEESE IS OUT OF THIS WORLD!! Add a...</td>\n",
       "      <td>Cheese Shops, Food, Specialty Food</td>\n",
       "    </tr>\n",
       "  </tbody>\n",
       "</table>\n",
       "<p>18189 rows × 6 columns</p>\n",
       "</div>"
      ],
      "text/plain": [
       "                    review_id             business_id  stars        date  \\\n",
       "0      S95ZsFVPVVCbKgDz1zSIVA  hIgGkG1JnHX4xmVuOgegDw      4  2015-08-29   \n",
       "1      O_z9uNsAHbmLvn3OWFsDJA  hIgGkG1JnHX4xmVuOgegDw      5  2011-12-28   \n",
       "2      -7GQn_YYzdk-OnCiy7AJUA  hIgGkG1JnHX4xmVuOgegDw      3  2013-04-10   \n",
       "3      0iQyrEPPCjKeC-8y14nMEg  hIgGkG1JnHX4xmVuOgegDw      5  2016-01-17   \n",
       "4      pVCzG1f09NEkqQCIT5dEPQ  hIgGkG1JnHX4xmVuOgegDw      5  2016-12-10   \n",
       "5      ZwCkLvWT9_xjfhFMnk1Vsw  hIgGkG1JnHX4xmVuOgegDw      5  2010-03-31   \n",
       "6      bdSmc24s3R6QwFAI1Qs13w  hIgGkG1JnHX4xmVuOgegDw      4  2013-01-25   \n",
       "7      Tc9o__x17P5mKIuKwf48JQ  hIgGkG1JnHX4xmVuOgegDw      4  2013-11-15   \n",
       "8      l21zg43xmA5ANINNRq_FXQ  hIgGkG1JnHX4xmVuOgegDw      2  2011-07-08   \n",
       "9      7xZdQVNfGUyw5Vsc3sdx2A  hIgGkG1JnHX4xmVuOgegDw      5  2015-03-16   \n",
       "10     6_aXR3iSxHTF1TbXdXeGvg  hIgGkG1JnHX4xmVuOgegDw      5  2010-08-25   \n",
       "11     Xb7n4_KQkMAWAVW7vqn1og  hIgGkG1JnHX4xmVuOgegDw      5  2008-09-29   \n",
       "12     _td62GYiA8d0Hdz35KfJ6A  hIgGkG1JnHX4xmVuOgegDw      5  2011-10-11   \n",
       "13     XOum0Ppd8lQJfCGUHbnH5w  hIgGkG1JnHX4xmVuOgegDw      4  2011-12-02   \n",
       "14     dXRWLz_m_b3qBCVz2pTPdg  hIgGkG1JnHX4xmVuOgegDw      3  2015-06-20   \n",
       "15     wPO8yRgI3nWa7a-G_l879w  hIgGkG1JnHX4xmVuOgegDw      5  2015-08-07   \n",
       "16     GFW9siXJ4Ho0c0KYzTZFrw  hIgGkG1JnHX4xmVuOgegDw      5  2017-04-29   \n",
       "17     phkLsITd9KAxGjjRvvfaPQ  hIgGkG1JnHX4xmVuOgegDw      5  2011-05-06   \n",
       "18     pj9tygRlLqnNotUA1K0b8Q  hIgGkG1JnHX4xmVuOgegDw      5  2013-03-22   \n",
       "19     sO5kLn7gpkSv_ODVs9mb7g  hIgGkG1JnHX4xmVuOgegDw      5  2011-02-01   \n",
       "20     tCYrajNrcCQ7EHb65WpPZw  hIgGkG1JnHX4xmVuOgegDw      5  2017-11-11   \n",
       "21     I_xOvbriND7ECWL86UpRlw  hIgGkG1JnHX4xmVuOgegDw      5  2011-07-25   \n",
       "22     zUK0xQtLCN1DZEsC_NdB0g  hIgGkG1JnHX4xmVuOgegDw      5  2010-01-22   \n",
       "23     qjarV5eFwJ538w8HAjNaZg  hIgGkG1JnHX4xmVuOgegDw      4  2010-07-11   \n",
       "24     QObdWCFnwBZBPRvI4xE3vQ  hIgGkG1JnHX4xmVuOgegDw      4  2010-12-30   \n",
       "25     jpjBVJKGUTQPZ-LnzWCORQ  hIgGkG1JnHX4xmVuOgegDw      4  2014-08-16   \n",
       "26     9sJZhgqvLt4NFNqZojtfUA  hIgGkG1JnHX4xmVuOgegDw      4  2017-02-26   \n",
       "27     74kphq85ODKnWkOEskdPyA  hIgGkG1JnHX4xmVuOgegDw      4  2011-04-23   \n",
       "28     ZDE1s9OFxO9i47yXNnAKVg  hIgGkG1JnHX4xmVuOgegDw      3  2010-12-08   \n",
       "29     gMS6M1V0Xij3M_CUYWDAGA  hIgGkG1JnHX4xmVuOgegDw      4  2015-12-20   \n",
       "...                       ...                     ...    ...         ...   \n",
       "18159  -zQq1nGZAuoNuH_AaVVycg  VmIWtyejlvSOIDoBGztNag      5  2017-11-29   \n",
       "18160  7tPYswCefe9jVMePBGVVrw  VmIWtyejlvSOIDoBGztNag      4  2018-04-21   \n",
       "18161  WJOzGdCrsmYHtpxzce-ACQ  VmIWtyejlvSOIDoBGztNag      5  2018-03-10   \n",
       "18162  _B1JGK8YCzZYPd9EWM7bKw  68s6PZRs6bQ9Nqtppdzpuw      3  2015-09-13   \n",
       "18163  jy8TWZZ2nEIc3Vw9tYZoWA  68s6PZRs6bQ9Nqtppdzpuw      4  2018-03-15   \n",
       "18164  MR9YjCTXMsl-mTObna1OqA  68s6PZRs6bQ9Nqtppdzpuw      2  2017-09-28   \n",
       "18165  ZXzlYicbbOXUKs8GX1l5PQ  ErcqmJQObybA8bA31xu1BA      5  2018-05-31   \n",
       "18166  A-NuXj9clzrcxmR8MmNOYw  ErcqmJQObybA8bA31xu1BA      5  2018-03-25   \n",
       "18167  11VQB3kkCoJGzIXINxXQJg  ErcqmJQObybA8bA31xu1BA      5  2018-04-07   \n",
       "18168  74aQcP7X5SpB4yrKJbrDtg  ErcqmJQObybA8bA31xu1BA      5  2018-03-24   \n",
       "18169  QRBL1I58TjKftAyuETOJFw  ErcqmJQObybA8bA31xu1BA      5  2018-06-27   \n",
       "18170  shupgEdpdeEBFCMQtsPM_w  ErcqmJQObybA8bA31xu1BA      5  2018-06-27   \n",
       "18171  XZtDcSQ9eLjumb4DjiayEQ  RFm8rCQqq3lw4gfdmXTk6Q      5  2016-01-14   \n",
       "18172  rqE22ll5eVlPT7KPGOFZzw  RFm8rCQqq3lw4gfdmXTk6Q      4  2017-09-11   \n",
       "18173  Oq5z381tXXH7LtrPkTSTTw  RFm8rCQqq3lw4gfdmXTk6Q      1  2016-12-31   \n",
       "18174  ccy7mS0Fq37wWY5nMcUM4Q  RFm8rCQqq3lw4gfdmXTk6Q      4  2016-09-05   \n",
       "18175  xgxKzmEeT7Pf2SgSKYUsXw  RFm8rCQqq3lw4gfdmXTk6Q      3  2012-03-17   \n",
       "18176  HXpaicN23bFlIP-mLjbvmQ  9io8AlKbVFrXfna7G7kMDA      1  2015-05-17   \n",
       "18177  nLNqZGxNujOxV5vnwjXm5A  9io8AlKbVFrXfna7G7kMDA      5  2016-08-07   \n",
       "18178  DKV2PUl6dH-B-z-CEbQJiw  9io8AlKbVFrXfna7G7kMDA      3  2016-12-27   \n",
       "18179  CwdboSKvNjoFLQl2v3ysEg  9io8AlKbVFrXfna7G7kMDA      3  2012-04-04   \n",
       "18180  Y72ZKYQzbatNSq90cJg7ZQ  i_WEjpxCUCngB6C5tYZB-A      5  2018-04-09   \n",
       "18181  iM3tusk7R-KLUHtgSJgxkA  i_WEjpxCUCngB6C5tYZB-A      4  2016-10-21   \n",
       "18182  05awRk1IrbN6ZE1k8Ydr0A  i_WEjpxCUCngB6C5tYZB-A      4  2017-12-30   \n",
       "18183  ZzPbSq1dkiKt5Kldp5S53g  wcBxjK5CdOuVOQCRMfd6Hw      2  2011-09-26   \n",
       "18184  qvo0yeUWOfJTEmni-rRRpA  wcBxjK5CdOuVOQCRMfd6Hw      3  2011-07-09   \n",
       "18185  Mxr11mFZVSESYO9_ii2NPA  wcBxjK5CdOuVOQCRMfd6Hw      4  2011-04-06   \n",
       "18186  WnOpIgc4rDetTrwkO-J2TQ  ujHyL38EI-OxAyN4_En3wA      5  2011-09-10   \n",
       "18187  XKUYZeUG76JruO8xzRxvLA  ujHyL38EI-OxAyN4_En3wA      5  2010-10-11   \n",
       "18188  ZhICvAezzTLGEjSsxgl2tQ  ujHyL38EI-OxAyN4_En3wA      5  2013-11-14   \n",
       "\n",
       "                                                    text  \\\n",
       "0      This place has 2 sandwiches cheese steak and c...   \n",
       "1      First of all, the service was awesome.  I will...   \n",
       "2      Woah, some good phillys up in here! Pretty sim...   \n",
       "3      Hands down the best philly cheesesteak I've ha...   \n",
       "4      Got the regular size steak with Wiz, onions an...   \n",
       "5      If you aren't getting your Cheesesteaks at For...   \n",
       "6      They ruined my taste for my previous favorite ...   \n",
       "7      When looking for a good cheese steak its all a...   \n",
       "8      \"Gourmet\"  is used loosely here.  If your meat...   \n",
       "9      Awesome cheesesteak. Friendly staff and I love...   \n",
       "10     I work about a 1/2 mile from this awesome plac...   \n",
       "11     If you like steak & cheese subs, Forefather's ...   \n",
       "12     I've been to pats, ginos, and jims in Philly a...   \n",
       "13     I recently went to Forefathers for dinner last...   \n",
       "14     Good cheese steaks!  I nearly skipped the didn...   \n",
       "15     Absolutely worth a try! I haven't been to Phil...   \n",
       "16     I had the pleasure of running into the food tr...   \n",
       "17     Great cheesesteaks and the fry sauce is so goo...   \n",
       "18     AMAZING!!!!!!!!!!\\n \\nThey have delicious food...   \n",
       "19     I always get the number 1 and its always spot ...   \n",
       "20     This is the best place for a cheese steak. My ...   \n",
       "21     Everything was authentic and really tasty.  Th...   \n",
       "22     Love cheesesteaks? Love sweet potato fries? Th...   \n",
       "23     As a fan of cheesesteaks, this place has a ver...   \n",
       "24     We stopped at Forefathers for lunch after a hi...   \n",
       "25     When you are visiting IKEA in Tempe and are no...   \n",
       "26     This is as close as you can get to a Philly ch...   \n",
       "27     This was very  yummy. Sweet potato fries were ...   \n",
       "28     Simply an eh!  I can't get over calling this p...   \n",
       "29     Outstanding, except for the bread, this the cl...   \n",
       "...                                                  ...   \n",
       "18159  Best new eatery and specialty foods shop in th...   \n",
       "18160  I love simple Italian food and I have to say t...   \n",
       "18161  Sauce on eggplant is to die for!!!!  You can b...   \n",
       "18162  I've never had a Philly Cheese Steak before an...   \n",
       "18163  I was a visitor at this mall last week for a n...   \n",
       "18164  I was excited to try these cheesesteaks so I s...   \n",
       "18165  Super knowledgeable and friendly staff. Great ...   \n",
       "18166  Excellent service and cheese selection. A welc...   \n",
       "18167  Amazing cheese selection. Delicious sandwiches...   \n",
       "18168  This specialty cheese shop has a great, divers...   \n",
       "18169  I wish I could give six stars.\\n\\nThis place i...   \n",
       "18170  If I could use one word to describe this place...   \n",
       "18171  You rarely find a guy who cares about his busi...   \n",
       "18172  Really enjoy this market which is inside the Y...   \n",
       "18173  Did not appreciate being upcharged for ground ...   \n",
       "18174  I've patronized Reesor's many times but for on...   \n",
       "18175  Reesors Thornhill Market takes up almost 1/4 o...   \n",
       "18176  I used to really enjoy this place, but theif s...   \n",
       "18177  Have been going there since I was a little gir...   \n",
       "18178  I ordered a veal sandwich from grande cheese. ...   \n",
       "18179  Oh so \"Smelly\" Cheese! \\n\\nInhale and Exhale f...   \n",
       "18180  The best kept secret of the east end. If you h...   \n",
       "18181  I was invited for dinner at La Grotte Des From...   \n",
       "18182  Probably one of the cities best \"Bring Your Ow...   \n",
       "18183  After a few write ups, I went and checked them...   \n",
       "18184  Tried this one based on a comment from the Yel...   \n",
       "18185  I can say this is the best place to get a chee...   \n",
       "18186  This stuff is the best around and featured by ...   \n",
       "18187  I can't  believe no one has written a review o...   \n",
       "18188  THEIR GOAT CHEESE IS OUT OF THIS WORLD!! Add a...   \n",
       "\n",
       "                                               catergory  \n",
       "0      Food, Desserts, Sandwiches, Restaurants, Chees...  \n",
       "1      Food, Desserts, Sandwiches, Restaurants, Chees...  \n",
       "2      Food, Desserts, Sandwiches, Restaurants, Chees...  \n",
       "3      Food, Desserts, Sandwiches, Restaurants, Chees...  \n",
       "4      Food, Desserts, Sandwiches, Restaurants, Chees...  \n",
       "5      Food, Desserts, Sandwiches, Restaurants, Chees...  \n",
       "6      Food, Desserts, Sandwiches, Restaurants, Chees...  \n",
       "7      Food, Desserts, Sandwiches, Restaurants, Chees...  \n",
       "8      Food, Desserts, Sandwiches, Restaurants, Chees...  \n",
       "9      Food, Desserts, Sandwiches, Restaurants, Chees...  \n",
       "10     Food, Desserts, Sandwiches, Restaurants, Chees...  \n",
       "11     Food, Desserts, Sandwiches, Restaurants, Chees...  \n",
       "12     Food, Desserts, Sandwiches, Restaurants, Chees...  \n",
       "13     Food, Desserts, Sandwiches, Restaurants, Chees...  \n",
       "14     Food, Desserts, Sandwiches, Restaurants, Chees...  \n",
       "15     Food, Desserts, Sandwiches, Restaurants, Chees...  \n",
       "16     Food, Desserts, Sandwiches, Restaurants, Chees...  \n",
       "17     Food, Desserts, Sandwiches, Restaurants, Chees...  \n",
       "18     Food, Desserts, Sandwiches, Restaurants, Chees...  \n",
       "19     Food, Desserts, Sandwiches, Restaurants, Chees...  \n",
       "20     Food, Desserts, Sandwiches, Restaurants, Chees...  \n",
       "21     Food, Desserts, Sandwiches, Restaurants, Chees...  \n",
       "22     Food, Desserts, Sandwiches, Restaurants, Chees...  \n",
       "23     Food, Desserts, Sandwiches, Restaurants, Chees...  \n",
       "24     Food, Desserts, Sandwiches, Restaurants, Chees...  \n",
       "25     Food, Desserts, Sandwiches, Restaurants, Chees...  \n",
       "26     Food, Desserts, Sandwiches, Restaurants, Chees...  \n",
       "27     Food, Desserts, Sandwiches, Restaurants, Chees...  \n",
       "28     Food, Desserts, Sandwiches, Restaurants, Chees...  \n",
       "29     Food, Desserts, Sandwiches, Restaurants, Chees...  \n",
       "...                                                  ...  \n",
       "18159    Pasta Shops, Specialty Food, Food, Cheese Shops  \n",
       "18160    Pasta Shops, Specialty Food, Food, Cheese Shops  \n",
       "18161    Pasta Shops, Specialty Food, Food, Cheese Shops  \n",
       "18162       Delis, Sandwiches, Restaurants, Cheesesteaks  \n",
       "18163       Delis, Sandwiches, Restaurants, Cheesesteaks  \n",
       "18164       Delis, Sandwiches, Restaurants, Cheesesteaks  \n",
       "18165                 Food, Specialty Food, Cheese Shops  \n",
       "18166                 Food, Specialty Food, Cheese Shops  \n",
       "18167                 Food, Specialty Food, Cheese Shops  \n",
       "18168                 Food, Specialty Food, Cheese Shops  \n",
       "18169                 Food, Specialty Food, Cheese Shops  \n",
       "18170                 Food, Specialty Food, Cheese Shops  \n",
       "18171  Meat Shops, Farmers Market, Fruits & Veggies, ...  \n",
       "18172  Meat Shops, Farmers Market, Fruits & Veggies, ...  \n",
       "18173  Meat Shops, Farmers Market, Fruits & Veggies, ...  \n",
       "18174  Meat Shops, Farmers Market, Fruits & Veggies, ...  \n",
       "18175  Meat Shops, Farmers Market, Fruits & Veggies, ...  \n",
       "18176                 Cheese Shops, Specialty Food, Food  \n",
       "18177                 Cheese Shops, Specialty Food, Food  \n",
       "18178                 Cheese Shops, Specialty Food, Food  \n",
       "18179                 Cheese Shops, Specialty Food, Food  \n",
       "18180  Delis, Sandwiches, Restaurants, Food, Cheese S...  \n",
       "18181  Delis, Sandwiches, Restaurants, Food, Cheese S...  \n",
       "18182  Delis, Sandwiches, Restaurants, Food, Cheese S...  \n",
       "18183                          Restaurants, Cheesesteaks  \n",
       "18184                          Restaurants, Cheesesteaks  \n",
       "18185                          Restaurants, Cheesesteaks  \n",
       "18186                 Cheese Shops, Food, Specialty Food  \n",
       "18187                 Cheese Shops, Food, Specialty Food  \n",
       "18188                 Cheese Shops, Food, Specialty Food  \n",
       "\n",
       "[18189 rows x 6 columns]"
      ]
     },
     "execution_count": 370,
     "metadata": {},
     "output_type": "execute_result"
    }
   ],
   "source": [
    "cheese_bussiness_review"
   ]
  },
  {
   "cell_type": "code",
   "execution_count": 310,
   "metadata": {},
   "outputs": [
    {
     "data": {
      "text/plain": [
       "(546419, 6)"
      ]
     },
     "execution_count": 310,
     "metadata": {},
     "output_type": "execute_result"
    }
   ],
   "source": [
    "Brunch_bussiness_review.shape"
   ]
  },
  {
   "cell_type": "code",
   "execution_count": 355,
   "metadata": {},
   "outputs": [],
   "source": [
    "cheese_bussiness_review.to_pickle('cheese_review')"
   ]
  },
  {
   "cell_type": "code",
   "execution_count": 356,
   "metadata": {},
   "outputs": [],
   "source": [
    "df = pd.read_pickle('cheese_review')"
   ]
  },
  {
   "cell_type": "code",
   "execution_count": 357,
   "metadata": {},
   "outputs": [
    {
     "data": {
      "text/html": [
       "<div>\n",
       "<style scoped>\n",
       "    .dataframe tbody tr th:only-of-type {\n",
       "        vertical-align: middle;\n",
       "    }\n",
       "\n",
       "    .dataframe tbody tr th {\n",
       "        vertical-align: top;\n",
       "    }\n",
       "\n",
       "    .dataframe thead th {\n",
       "        text-align: right;\n",
       "    }\n",
       "</style>\n",
       "<table border=\"1\" class=\"dataframe\">\n",
       "  <thead>\n",
       "    <tr style=\"text-align: right;\">\n",
       "      <th></th>\n",
       "      <th>review_id</th>\n",
       "      <th>business_id</th>\n",
       "      <th>stars</th>\n",
       "      <th>date</th>\n",
       "      <th>text</th>\n",
       "      <th>catergory</th>\n",
       "    </tr>\n",
       "  </thead>\n",
       "  <tbody>\n",
       "    <tr>\n",
       "      <th>0</th>\n",
       "      <td>S95ZsFVPVVCbKgDz1zSIVA</td>\n",
       "      <td>hIgGkG1JnHX4xmVuOgegDw</td>\n",
       "      <td>4</td>\n",
       "      <td>2015-08-29</td>\n",
       "      <td>This place has 2 sandwiches cheese steak and c...</td>\n",
       "      <td>Food, Desserts, Sandwiches, Restaurants, Chees...</td>\n",
       "    </tr>\n",
       "    <tr>\n",
       "      <th>1</th>\n",
       "      <td>O_z9uNsAHbmLvn3OWFsDJA</td>\n",
       "      <td>hIgGkG1JnHX4xmVuOgegDw</td>\n",
       "      <td>5</td>\n",
       "      <td>2011-12-28</td>\n",
       "      <td>First of all, the service was awesome.  I will...</td>\n",
       "      <td>Food, Desserts, Sandwiches, Restaurants, Chees...</td>\n",
       "    </tr>\n",
       "    <tr>\n",
       "      <th>2</th>\n",
       "      <td>-7GQn_YYzdk-OnCiy7AJUA</td>\n",
       "      <td>hIgGkG1JnHX4xmVuOgegDw</td>\n",
       "      <td>3</td>\n",
       "      <td>2013-04-10</td>\n",
       "      <td>Woah, some good phillys up in here! Pretty sim...</td>\n",
       "      <td>Food, Desserts, Sandwiches, Restaurants, Chees...</td>\n",
       "    </tr>\n",
       "    <tr>\n",
       "      <th>3</th>\n",
       "      <td>0iQyrEPPCjKeC-8y14nMEg</td>\n",
       "      <td>hIgGkG1JnHX4xmVuOgegDw</td>\n",
       "      <td>5</td>\n",
       "      <td>2016-01-17</td>\n",
       "      <td>Hands down the best philly cheesesteak I've ha...</td>\n",
       "      <td>Food, Desserts, Sandwiches, Restaurants, Chees...</td>\n",
       "    </tr>\n",
       "    <tr>\n",
       "      <th>4</th>\n",
       "      <td>pVCzG1f09NEkqQCIT5dEPQ</td>\n",
       "      <td>hIgGkG1JnHX4xmVuOgegDw</td>\n",
       "      <td>5</td>\n",
       "      <td>2016-12-10</td>\n",
       "      <td>Got the regular size steak with Wiz, onions an...</td>\n",
       "      <td>Food, Desserts, Sandwiches, Restaurants, Chees...</td>\n",
       "    </tr>\n",
       "  </tbody>\n",
       "</table>\n",
       "</div>"
      ],
      "text/plain": [
       "                review_id             business_id  stars        date  \\\n",
       "0  S95ZsFVPVVCbKgDz1zSIVA  hIgGkG1JnHX4xmVuOgegDw      4  2015-08-29   \n",
       "1  O_z9uNsAHbmLvn3OWFsDJA  hIgGkG1JnHX4xmVuOgegDw      5  2011-12-28   \n",
       "2  -7GQn_YYzdk-OnCiy7AJUA  hIgGkG1JnHX4xmVuOgegDw      3  2013-04-10   \n",
       "3  0iQyrEPPCjKeC-8y14nMEg  hIgGkG1JnHX4xmVuOgegDw      5  2016-01-17   \n",
       "4  pVCzG1f09NEkqQCIT5dEPQ  hIgGkG1JnHX4xmVuOgegDw      5  2016-12-10   \n",
       "\n",
       "                                                text  \\\n",
       "0  This place has 2 sandwiches cheese steak and c...   \n",
       "1  First of all, the service was awesome.  I will...   \n",
       "2  Woah, some good phillys up in here! Pretty sim...   \n",
       "3  Hands down the best philly cheesesteak I've ha...   \n",
       "4  Got the regular size steak with Wiz, onions an...   \n",
       "\n",
       "                                           catergory  \n",
       "0  Food, Desserts, Sandwiches, Restaurants, Chees...  \n",
       "1  Food, Desserts, Sandwiches, Restaurants, Chees...  \n",
       "2  Food, Desserts, Sandwiches, Restaurants, Chees...  \n",
       "3  Food, Desserts, Sandwiches, Restaurants, Chees...  \n",
       "4  Food, Desserts, Sandwiches, Restaurants, Chees...  "
      ]
     },
     "execution_count": 357,
     "metadata": {},
     "output_type": "execute_result"
    }
   ],
   "source": [
    "df.head()"
   ]
  },
  {
   "cell_type": "code",
   "execution_count": null,
   "metadata": {},
   "outputs": [],
   "source": []
  },
  {
   "cell_type": "code",
   "execution_count": null,
   "metadata": {},
   "outputs": [],
   "source": []
  },
  {
   "cell_type": "code",
   "execution_count": null,
   "metadata": {},
   "outputs": [],
   "source": []
  },
  {
   "cell_type": "code",
   "execution_count": 118,
   "metadata": {},
   "outputs": [],
   "source": []
  },
  {
   "cell_type": "code",
   "execution_count": null,
   "metadata": {},
   "outputs": [],
   "source": []
  },
  {
   "cell_type": "code",
   "execution_count": null,
   "metadata": {},
   "outputs": [],
   "source": []
  },
  {
   "cell_type": "code",
   "execution_count": null,
   "metadata": {},
   "outputs": [],
   "source": []
  },
  {
   "cell_type": "code",
   "execution_count": null,
   "metadata": {},
   "outputs": [],
   "source": []
  },
  {
   "cell_type": "code",
   "execution_count": null,
   "metadata": {
    "scrolled": true
   },
   "outputs": [],
   "source": []
  },
  {
   "cell_type": "code",
   "execution_count": null,
   "metadata": {},
   "outputs": [],
   "source": []
  },
  {
   "cell_type": "code",
   "execution_count": null,
   "metadata": {},
   "outputs": [],
   "source": []
  },
  {
   "cell_type": "code",
   "execution_count": null,
   "metadata": {},
   "outputs": [],
   "source": []
  },
  {
   "cell_type": "code",
   "execution_count": null,
   "metadata": {},
   "outputs": [],
   "source": []
  },
  {
   "cell_type": "code",
   "execution_count": null,
   "metadata": {},
   "outputs": [],
   "source": []
  }
 ],
 "metadata": {
  "kernelspec": {
   "display_name": "Python 3",
   "language": "python",
   "name": "python3"
  },
  "language_info": {
   "codemirror_mode": {
    "name": "ipython",
    "version": 3
   },
   "file_extension": ".py",
   "mimetype": "text/x-python",
   "name": "python",
   "nbconvert_exporter": "python",
   "pygments_lexer": "ipython3",
   "version": "3.6.5"
  }
 },
 "nbformat": 4,
 "nbformat_minor": 2
}
